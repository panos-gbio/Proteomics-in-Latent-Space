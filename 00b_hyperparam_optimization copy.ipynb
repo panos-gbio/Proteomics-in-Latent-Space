{
 "cells": [
  {
   "cell_type": "markdown",
   "metadata": {},
   "source": [
    "## Load Libraries and import modules "
   ]
  },
  {
   "cell_type": "code",
   "execution_count": 1,
   "metadata": {},
   "outputs": [],
   "source": [
    "# Load all the vanila libraries \n",
    "import numpy as np\n",
    "import pandas as pd\n",
    "import numpy.random as nrd\n",
    "import os\n",
    "import pathlib \n",
    "import sys\n",
    "from typing import Callable\n",
    "import itertools\n",
    "import gc\n",
    "import time\n",
    "from functools import reduce\n",
    "\n",
    "\n",
    "\n",
    "#\n",
    "import umap\n",
    "from sklearn.preprocessing import StandardScaler\n",
    "from sklearn.preprocessing import MinMaxScaler\n",
    "\n",
    "\n",
    "# Pytorch modules \n",
    "import torch\n",
    "import torch.nn.functional as F\n",
    "from torch import nn\n",
    "import torch.optim as optim\n",
    "\n",
    "# this for the custom Dataset \n",
    "from torch.utils.data import Dataset\n",
    "from torch.utils.data import DataLoader\n",
    "\n",
    "# plotting\n",
    "import seaborn as sns\n",
    "import matplotlib.pyplot as plt\n",
    "import matplotlib.colors as mcolors\n",
    "import matplotlib.patches as mpatches\n",
    "from mpl_toolkits.mplot3d import Axes3D\n",
    "from matplotlib.lines import Line2D\n",
    "\n",
    "\n",
    "#sklearn\n",
    "from sklearn.model_selection import train_test_split, GridSearchCV\n",
    "from sklearn.linear_model import LogisticRegression\n",
    "from sklearn.pipeline import Pipeline\n",
    "from sklearn.metrics import roc_auc_score, pairwise_distances\n",
    "from sklearn.preprocessing import StandardScaler\n",
    "\n",
    "\n",
    "\n",
    "# Import tqdm for progress bar\n",
    "from tqdm.auto import tqdm\n",
    "\n",
    "# for timing functions\n",
    "from timeit import default_timer as timer "
   ]
  },
  {
   "cell_type": "markdown",
   "metadata": {},
   "source": [
    "### Configure Project Parameters"
   ]
  },
  {
   "cell_type": "code",
   "execution_count": 2,
   "metadata": {},
   "outputs": [
    {
     "data": {
      "text/plain": [
       "'c:\\\\Users\\\\gpano\\\\Desktop\\\\github_py\\\\proteomics_latent_space'"
      ]
     },
     "execution_count": 2,
     "metadata": {},
     "output_type": "execute_result"
    }
   ],
   "source": [
    "# check your current directory\n",
    "os.getcwd()"
   ]
  },
  {
   "cell_type": "markdown",
   "metadata": {},
   "source": [
    "**Important:** Run the configuration file first `configs.py`. Importing this script and setting the seed and device parameters before importing any of the other modules ensures that evereything is sync.\n",
    "\n",
    "**Important** If you want *change the configuration parameters*, change them before importing and running the pipeline. "
   ]
  },
  {
   "cell_type": "code",
   "execution_count": 3,
   "metadata": {},
   "outputs": [
    {
     "name": "stdout",
     "output_type": "stream",
     "text": [
      "Importing models_util.configs module\n",
      "First set device and seed for reproducibility.\n",
      "-----------------------------------------------\n"
     ]
    }
   ],
   "source": [
    "from models_util import configs"
   ]
  },
  {
   "cell_type": "code",
   "execution_count": 4,
   "metadata": {},
   "outputs": [
    {
     "data": {
      "text/plain": [
       "'Seed: None, Device: None'"
      ]
     },
     "execution_count": 4,
     "metadata": {},
     "output_type": "execute_result"
    }
   ],
   "source": [
    "configs.get_configs()"
   ]
  },
  {
   "cell_type": "code",
   "execution_count": 5,
   "metadata": {},
   "outputs": [
    {
     "name": "stdout",
     "output_type": "stream",
     "text": [
      "None None\n"
     ]
    }
   ],
   "source": [
    "# print the global variables\n",
    "print(configs.project_seed, configs.project_device)"
   ]
  },
  {
   "cell_type": "code",
   "execution_count": 6,
   "metadata": {},
   "outputs": [
    {
     "name": "stdout",
     "output_type": "stream",
     "text": [
      "During configuration random seed 459 has been set.\n",
      "459 cpu\n"
     ]
    }
   ],
   "source": [
    "configs.set_seed(459)\n",
    "device = configs.set_device(force_cpu=True)\n",
    "\n",
    "# global variables have changed too\n",
    "print(configs.project_seed, configs.project_device)"
   ]
  },
  {
   "cell_type": "code",
   "execution_count": 7,
   "metadata": {},
   "outputs": [
    {
     "data": {
      "text/plain": [
       "'Seed: 459, Device: cpu'"
      ]
     },
     "execution_count": 7,
     "metadata": {},
     "output_type": "execute_result"
    }
   ],
   "source": [
    "# lets see if the get function also agrees:\n",
    "configs.get_configs()"
   ]
  },
  {
   "cell_type": "markdown",
   "metadata": {},
   "source": [
    "Now that all the configurations values are assigned globally, we can import the modules. If this is working, we expect each module to access the **same** **seed** and **device** we set. We are also expecting generated numbers **inside the modules** to be reproducible."
   ]
  },
  {
   "cell_type": "code",
   "execution_count": 8,
   "metadata": {},
   "outputs": [
    {
     "name": "stdout",
     "output_type": "stream",
     "text": [
      "During configuration random seed 459 has been set.\n",
      "Importing models_util.utility_functions, running in cpu with seed: 459\n"
     ]
    }
   ],
   "source": [
    "# Load home modules and check the device where they are running \n",
    "from models_util import utility_functions as uf"
   ]
  },
  {
   "cell_type": "code",
   "execution_count": 9,
   "metadata": {},
   "outputs": [
    {
     "name": "stdout",
     "output_type": "stream",
     "text": [
      "During configuration random seed 459 has been set.\n",
      "Importing models_util.custom_dataset, running in cpu with seed: 459\n"
     ]
    }
   ],
   "source": [
    "from models_util import custom_dataset as cd"
   ]
  },
  {
   "cell_type": "code",
   "execution_count": 10,
   "metadata": {},
   "outputs": [
    {
     "name": "stdout",
     "output_type": "stream",
     "text": [
      "During configuration random seed 459 has been set.\n",
      "Importing models_util.cost_functions, running in cpu with seed: 459\n"
     ]
    }
   ],
   "source": [
    "from models_util import cost_functions as cf"
   ]
  },
  {
   "cell_type": "code",
   "execution_count": 11,
   "metadata": {},
   "outputs": [
    {
     "name": "stdout",
     "output_type": "stream",
     "text": [
      "During configuration random seed 459 has been set.\n",
      "Importing models_util.VAE1, running in cpu with seed: 459\n"
     ]
    }
   ],
   "source": [
    "from models_util import VAE1 as v1 \n"
   ]
  },
  {
   "cell_type": "markdown",
   "metadata": {},
   "source": [
    "##  Data preparation and split for VAE optim (Total Cell Proteomic Tables)\n",
    "- I will perform various scaling approaches to the protein table. <br>\n",
    "- The `data` dataframe could be a **protein** or a **proteoform** table. The latter require further preprocessing aside from a missing values filtering. <br>\n",
    "- I will scale the array version of our scbc data, the `npdata` matrix.\n",
    "- Then I will copy this scaled matrix and reshuffle the copy. The `npscbc_scaled_shuffled` will be used for the model training and performance evaluattion. <br>\n",
    "- The `npdata_scaled` matrix with the original order of rows will be used later for the validation of the latent variables. <br> \n",
    "- It is important to use the non-missing min and max values of dataset row-by-row <br>"
   ]
  },
  {
   "cell_type": "code",
   "execution_count": 12,
   "metadata": {},
   "outputs": [],
   "source": [
    "# create path and read the scbc data\n",
    "data_path = os.getcwd() + \"\\\\data\\\\raw\\\\\" \n",
    "\n",
    "# # load data - differnt kinds\n",
    "\n",
    "# # AML data with & without NAs\n",
    "# # data = pd.read_csv(data_path+\"AML_proteomics_TMT.txt\",delimiter=\"\\t\") # 8.632, \n",
    "# data = pd.read_csv(data_path+\"AML_proteomics_TMT_NAs.txt\",delimiter=\"\\t\") # 10.103, all correlated \n",
    "\n",
    "\n",
    "# pan-cancer dataset (abms in vitro cell lines)\n",
    "# data = pd.read_csv(os.getcwd() + \"\\\\data\\\\processed\\\\prot_abms_norm.txt\",delimiter=\"\\t\") \n",
    "\n",
    "\n",
    "\n",
    "                        ## FINAL PART FOR THE NORMAL PROTEIN TABLES ##\n",
    "# # keep each row with < 50% NAs for any of the protein tables above \n",
    "# data = data.loc[np.isnan(data).sum(axis=1) < data.shape[1]*0.5]\n",
    "# npdata = data.to_numpy()\n",
    "\n",
    "                        ## GROUND TRUTH PAIRS FROM CORM & COMPLEAT ## \n",
    "# load groudtruth pairs \n",
    "pairs_df = pd.read_csv(os.getcwd() + \"\\\\data\\\\processed\\\\\" + \"merged_pairs.txt\", delimiter=\"\\t\")\n",
    "\n",
    "\n",
    "\n",
    "\n",
    "                ##### PROTEOFORM TABLES BELOW - BEWARE THEY ARE MISCHEVIOUS #######\n",
    "\n",
    "# pan cancer proteoform dataset (abms proteoform tables)\n",
    "data = pd.read_csv(os.getcwd() + \"\\\\data\\\\raw\\\\ABMS_proteoform_table.txt\",delimiter=\"\\t\")\n",
    "meta_data = pd.read_csv(os.getcwd() + \"\\\\data\\\\raw\\\\ABMS_summarized_proteoforms_sig_annotated_groups.txt\",delimiter=\"\\t\")\n",
    "\n",
    "\n",
    "# ensemble ID to gene symbol mapping for ABMS proteoform table \n",
    "map_df = pd.read_csv(os.getcwd() + \"\\\\data\\\\raw\\\\ABMS_gene_id_to_symbol.txt\",delimiter=\"\\t\")\n",
    "# one to one map of ensemble IDs to gene symbols\n",
    "mapping = dict(zip(map_df[\"gene_id\"], map_df[\"gene_name\"]))\n",
    "\n",
    "# convert to numpy \n",
    "npdata = data.to_numpy()\n",
    "\n",
    "\n",
    "\n",
    "table_is_proteoform = True  # CHANGE IT TO TRUE IF YOU RUN PROTEOFORM TABLE OR FALSE FOR PROTEIN TABLE (AML, PAN-CAN ABMS, ETC..)"
   ]
  },
  {
   "cell_type": "markdown",
   "metadata": {},
   "source": [
    "###  Evaluate NAs and unique entries from the Dataset (Proteofrom - Preprocess)\n",
    "- For missing values I wll keep rows with > 50% non-missing Values. The VAE can tolerate this much. \n",
    "- The part for the unique entries is mostly for the proteoform tables. \n",
    "- There are dominant proteoforms named with the prefix \"sims\" in the tables. These sim proteoforms should match to unique gene symbols in the meta data table. Basicaly it is the dominant form of its respective protein.\n",
    "- As a part for the proteoform table analysis, we will match the dominant proteoforms with their respective gene IDs and substitute the row names (ENSEMBLE ID OF DOMINANTS) in quant table, the `data` dataframe, so we can evaluate the predictive value of the dominant proteoform covariation of mass spec signals. We perform this step because the ground truth tables contain gene symbols. Furthermore, this is helpfull for sanity check, be that the proteoform MS signals could be predictive of interractions, and of course, to optimize the dimensions of the latent space for feature extraction. \n",
    "- In the case of protein tables, aside from NAs filtering the rest of the steps are not required. "
   ]
  },
  {
   "cell_type": "code",
   "execution_count": 14,
   "metadata": {},
   "outputs": [
    {
     "name": "stdout",
     "output_type": "stream",
     "text": [
      "Missing data before clean up: 522 in total\n",
      "Unique entries (rows): 9696\n",
      "Dominants proteofroms: 9187\n",
      "Alternative proteofroms: 509\n"
     ]
    },
    {
     "data": {
      "image/png": "[encoded data removed]",
      "text/plain": [
       "<Figure size 1000x500 with 1 Axes>"
      ]
     },
     "metadata": {},
     "output_type": "display_data"
    }
   ],
   "source": [
    "# fix missing data \n",
    "\n",
    "print(f\"Missing data before clean up: {data.isna().sum().sum()} in total\")\n",
    "print(f\"Unique entries (rows): {data.shape[0]}\")\n",
    "if table_is_proteoform:\n",
    "    print(f\"Dominants proteofroms: {data.index.str.contains(\"sim\").sum()}\")\n",
    "    print(f\"Alternative proteofroms: {(~data.index.str.contains(\"sim\")).sum()}\")\n",
    "\n",
    "fig, ax = plt.subplots(1,1,figsize=(10,5))\n",
    "pd.DataFrame(data.isna().sum(axis=1), columns=[\"values\"], index=data.index).pipe(sns.histplot, x = \"values\", ax=ax, color=\"firebrick\", alpha=0.5)\n",
    "plt.show()\n",
    "plt.close()"
   ]
  },
  {
   "cell_type": "code",
   "execution_count": 15,
   "metadata": {},
   "outputs": [
    {
     "name": "stdout",
     "output_type": "stream",
     "text": [
      "Missing data after clean up: 522 in total\n",
      "Unique entries (rows): 9696\n",
      "Dominants proteofroms: 9187\n",
      "Alterntive proteofroms: 509\n"
     ]
    },
    {
     "data": {
      "image/png": "[encoded data removed]",
      "text/plain": [
       "<Figure size 1000x500 with 1 Axes>"
      ]
     },
     "metadata": {},
     "output_type": "display_data"
    }
   ],
   "source": [
    "data = data.loc[np.isnan(data).sum(axis=1) < data.shape[1]*0.5]\n",
    "print(f\"Missing data after clean up: {data.isna().sum().sum()} in total\")\n",
    "print(f\"Unique entries (rows): {data.shape[0]}\")\n",
    "if table_is_proteoform:\n",
    "    print(f\"Dominants proteofroms: {data.index.str.contains(\"sim\").sum()}\")\n",
    "    print(f\"Alterntive proteofroms: {(~data.index.str.contains(\"sim\")).sum()}\")\n",
    "fig, ax = plt.subplots(1,1,figsize=(10,5))\n",
    "pd.DataFrame(data.isna().sum(axis=1), columns=[\"values\"], index=data.index).pipe(sns.histplot, x = \"values\", ax=ax, color=\"firebrick\", alpha=0.5)\n",
    "plt.show()\n"
   ]
  },
  {
   "cell_type": "code",
   "execution_count": 16,
   "metadata": {},
   "outputs": [
    {
     "name": "stdout",
     "output_type": "stream",
     "text": [
      "Unique dominant proteoforms with gene symbol match\n",
      "peptide               8128\n",
      "ioi                    448\n",
      "membership               1\n",
      "id                     448\n",
      "q_value_proteoform       0\n",
      "fc_proteoform            0\n",
      "q_value_protein        140\n",
      "fc_protein             448\n",
      "gene_symbol            447\n",
      "isoforms                67\n",
      "act-site                 0\n",
      "binding                  0\n",
      "carbohyd                 0\n",
      "coiled                   0\n",
      "crosslnk                 0\n",
      "disulfide                0\n",
      "DNA-bind                 0\n",
      "domain                   0\n",
      "helix                    0\n",
      "init_meth                0\n",
      "intramem                 0\n",
      "lipid                    0\n",
      "mod-res                  0\n",
      "motif                    0\n",
      "mutagen                  0\n",
      "propep                   0\n",
      "region                   0\n",
      "repeat                   0\n",
      "signal                   0\n",
      "site                     0\n",
      "strand                   0\n",
      "topo-dom                 0\n",
      "transit                  0\n",
      "transmem                 0\n",
      "turn                     0\n",
      "Zn-fing                  0\n",
      "q_logical                2\n",
      "n_peptides_logical       2\n",
      "uniprot_logical          2\n",
      "level                    4\n",
      "dtype: int64\n"
     ]
    }
   ],
   "source": [
    "if table_is_proteoform:\n",
    "    print(f\"Unique dominant proteoforms with gene symbol match\")\n",
    "    mask2 = meta_data[\"membership\"] == \"sim\"\n",
    "    mask = meta_data[\"id\"].str.contains(\"sim\")\n",
    "    print(meta_data.loc[meta_data[\"membership\"] == \"sim\"].nunique())\n",
    "else:\n",
    "    print(\"This part is ommited for gene centric analysis\")"
   ]
  },
  {
   "cell_type": "code",
   "execution_count": 17,
   "metadata": {},
   "outputs": [
    {
     "data": {
      "text/plain": [
       "np.int64(0)"
      ]
     },
     "execution_count": 17,
     "metadata": {},
     "output_type": "execute_result"
    }
   ],
   "source": [
    "data.isna().sum().sum()\n",
    "(data.isna().sum(axis=1) > 0.5*data.shape[1]).sum()"
   ]
  },
  {
   "cell_type": "code",
   "execution_count": 18,
   "metadata": {},
   "outputs": [
    {
     "name": "stdout",
     "output_type": "stream",
     "text": [
      "Unique dominant proteoforms with a gene-symbol match within the ground truth databases: 3033\n"
     ]
    }
   ],
   "source": [
    "if table_is_proteoform:\n",
    "    # here we keep only the dominant proteoform and substitute the index with gene symbols\n",
    "    \n",
    "    data_sim = data.loc[data.index.str.contains(\"sim\")]\n",
    "\n",
    "    # slice the P_sim and keep only the ensemble ID in the index\n",
    "    data_sim.index = data_sim.index.str.extract(r\"(ENSG\\d+)\")[0]\n",
    "\n",
    "    # remove indec column name\n",
    "    data_sim.index.name = None\n",
    "\n",
    "    # final step substitute index names with gene symbols using the map df\n",
    "    data_sim.index = data_sim.index.map(mapping)\n",
    "\n",
    "    # drop NAs in index\n",
    "    data_sim = data_sim.loc[~data_sim.index.isna()]\n",
    "\n",
    "    # remove entries with more than 2 gene symbols for now\n",
    "    mask = data_sim.index.str.match(r'^\\w+$')\n",
    "    data_sim = data_sim[mask]\n",
    "    \n",
    "    # how many of these dominants are also in the ground truth dataframe \n",
    "    proteins_in_pairs = set(pairs_df.iloc[:, 0]).union(set(pairs_df.iloc[:, 1]))\n",
    "    datasim_sub = data_sim.loc[data_sim.index.intersection(proteins_in_pairs)].index.nunique()\n",
    "    print(f\"Unique dominant proteoforms with a gene-symbol match within the ground truth databases: {datasim_sub}\")\n",
    "\n",
    "    # finally we substitute the data with the data_sim, to proceed with the analysis\n",
    "    data = data_sim.copy()\n",
    "    npdata = data.to_numpy()\n",
    "\n",
    "    # save the data_sim for later use\n",
    "    data_sim.to_csv(os.getcwd() + \"\\\\data\\\\features\\\\abms_quant_sims.csv\", index=True, header=True)\n",
    "    \n",
    "else:\n",
    "    print(\"This part is ommited during gene centric analysis\")"
   ]
  },
  {
   "cell_type": "markdown",
   "metadata": {},
   "source": [
    "### Data Transformations\n",
    "- After testing, for my specific tables, non-transformed data works best. "
   ]
  },
  {
   "cell_type": "code",
   "execution_count": 15,
   "metadata": {},
   "outputs": [],
   "source": [
    "# # Get extreme values (non-missing) frome ach row. \n",
    "# data_min = np.nanmin(npdata, axis=1, keepdims=True)  # minimum among non-NaN\n",
    "# data_max = np.nanmax(npdata, axis=1,keepdims=True)  # maximum among non-NaN\n",
    "\n",
    "# # check that that shapes and values are as expected \n",
    "# print(data_max.shape,data_min.shape,np.isnan(data_max).sum(), np.isnan(data_min).sum())"
   ]
  },
  {
   "cell_type": "code",
   "execution_count": 16,
   "metadata": {},
   "outputs": [],
   "source": [
    "# # scale data min-max\n",
    "# npdata_scaled = (npdata - data_min) /(data_max - data_min + 1e-8)\n",
    "# npdata_scaled.shape\n",
    "\n",
    "# # npscbc_scaled[0:2,]"
   ]
  },
  {
   "cell_type": "code",
   "execution_count": 350,
   "metadata": {},
   "outputs": [],
   "source": [
    "# try a z-score normalization\n",
    "npdata_scaled = StandardScaler().fit_transform(npdata.T).T\n",
    "\n",
    "# min max normalization \n",
    "# npdata_scaled = MinMaxScaler().fit_transform(npdata.T).T\n",
    "\n",
    "# # data not scaled works better \n",
    "# npdata_scaled = npdata.copy()\n"
   ]
  },
  {
   "cell_type": "code",
   "execution_count": null,
   "metadata": {},
   "outputs": [
    {
     "data": {
      "text/plain": [
       "np.float64(-0.013483470464148677)"
      ]
     },
     "execution_count": 28,
     "metadata": {},
     "output_type": "execute_result"
    }
   ],
   "source": [
    "# np.nanmean(npdata)"
   ]
  },
  {
   "cell_type": "code",
   "execution_count": 351,
   "metadata": {},
   "outputs": [
    {
     "data": {
      "image/png": "[encoded data removed]",
      "text/plain": [
       "<Figure size 1000x500 with 2 Axes>"
      ]
     },
     "metadata": {},
     "output_type": "display_data"
    }
   ],
   "source": [
    "# distribution of all the proteome signals - keep the protein names for outlier analysis \n",
    "fig, ax = plt.subplots(1,1,figsize=(10,5))\n",
    "pd.DataFrame(npdata_scaled, columns=data.columns).melt().pipe((sns.histplot, \"data\"), x=\"value\", binwidth=.0125, ax=ax, color=\"darkblue\", alpha=.6)\n",
    "ax2 = ax.twinx()\n",
    "sns.kdeplot(pd.DataFrame(npdata_scaled, columns=data.columns).melt(),x = \"value\", ax=ax2, color=\"gray\", ls = \"--\")\n",
    "# ax.set_xlim(-4,5)\n",
    "ax.set_title(\"Distribution of scaled Signals for all the proteins\")\n",
    "plt.show()"
   ]
  },
  {
   "cell_type": "code",
   "execution_count": 352,
   "metadata": {},
   "outputs": [],
   "source": [
    "# shuffle the rows but keep scaled original\n",
    "npdata_scaled_shuffled = npdata_scaled.copy()\n",
    "np.random.shuffle(npdata_scaled_shuffled)\n",
    "# npscbc_scaled[1,],scbc.iloc[1,:12]"
   ]
  },
  {
   "cell_type": "markdown",
   "metadata": {},
   "source": [
    "\n",
    "### Split Data "
   ]
  },
  {
   "cell_type": "code",
   "execution_count": 354,
   "metadata": {},
   "outputs": [
    {
     "data": {
      "text/plain": [
       "((6828, 54), (911, 54), (1366, 54))"
      ]
     },
     "execution_count": 354,
     "metadata": {},
     "output_type": "execute_result"
    }
   ],
   "source": [
    "train_data, val_data, test_data = uf.create_data_partition(\n",
    "    npdata_scaled_shuffled, test_perc=0.15, val=True, val_perc=0.1\n",
    ")\n",
    "train_data.shape, val_data.shape, test_data.shape"
   ]
  },
  {
   "cell_type": "markdown",
   "metadata": {},
   "source": [
    "You can test reproducibility by re-runing the function and checking the data in the first index of the matrix. We expect it to be the same. "
   ]
  },
  {
   "cell_type": "markdown",
   "metadata": {},
   "source": [
    "### Pass data to Custom Dataset and DataLoaders \n",
    "- check that your data is numpy matrix.\n",
    "- check if data is scaled to (0,1).\n",
    "- create three custom dataset instances.\n",
    "- the custom dataset will save all the data to memory and create a mask where NaNs are located.\n",
    "- the numpy arrays will be converted to tensors of appropriate dimensions and NaNs to zeroes.\n",
    "- then we pass the custom dataset to the dataloader object.\n",
    "- The DataLoader object contains for each row (training example) i) a tensor of 1 x 130 columns with 0-1 scaled values, ii) a 1x130 mask indicating NA positions and iii) index of the examples per batch (could be 64, 128,..., batch_size). "
   ]
  },
  {
   "cell_type": "code",
   "execution_count": 355,
   "metadata": {},
   "outputs": [
    {
     "name": "stdout",
     "output_type": "stream",
     "text": [
      "Protein Dataset is passed to memory\n",
      "No Protein Symbols were identified\n",
      "Protein Dataset is passed to memory\n",
      "No Protein Symbols were identified\n",
      "Protein Dataset is passed to memory\n",
      "No Protein Symbols were identified\n",
      "Protein Dataset is passed to memory\n",
      "No Protein Symbols were identified\n"
     ]
    }
   ],
   "source": [
    "train_dataset = cd.ProteinDataset(train_data)\n",
    "val_dataset = cd.ProteinDataset(val_data)\n",
    "test_dataset = cd.ProteinDataset(test_data)\n",
    "whole_dataset = cd.ProteinDataset(npdata_scaled)"
   ]
  },
  {
   "cell_type": "code",
   "execution_count": 357,
   "metadata": {},
   "outputs": [],
   "source": [
    "# pass data to the dataLoader\n",
    "train_loader = DataLoader(train_dataset, batch_size=128, shuffle=True)\n",
    "val_loader = DataLoader(val_dataset, batch_size=128, shuffle=False)\n",
    "test_loader = DataLoader(test_dataset, batch_size=128, shuffle=False,drop_last=True)\n",
    "whole_loader = DataLoader(whole_dataset, batch_size=128, shuffle=False, drop_last=False)"
   ]
  },
  {
   "cell_type": "markdown",
   "metadata": {},
   "source": [
    "## VAE (Total Cell / ABMS) dimensions optimization Loop with secondary task \n",
    "- After some testing, the VAE for the ABMS (total cell) proteoform or protein tables will run without scaling the data. This means no activation function will be applied to the output of the VAE, the reconstructions. Gaussilan Likelihood error applies as a very good reconstruction error loss function (see the distribution of the signals above)."
   ]
  },
  {
   "cell_type": "code",
   "execution_count": 358,
   "metadata": {},
   "outputs": [],
   "source": [
    "# set the combinations of the VAE layers to check. \n",
    "comb_list = list()\n",
    "for comb in list(itertools.product([54,50, 45,40,30],[30,25,20,15])):\n",
    "    if comb[0] >= 1.5*comb[1]:\n",
    "        comb_list.append(comb)"
   ]
  },
  {
   "cell_type": "code",
   "execution_count": 359,
   "metadata": {},
   "outputs": [],
   "source": [
    "comb_list = [(54,30)]"
   ]
  },
  {
   "cell_type": "code",
   "execution_count": 360,
   "metadata": {},
   "outputs": [
    {
     "name": "stdout",
     "output_type": "stream",
     "text": [
      "12 0 54 30\n",
      "Directory already exists: c:\\Users\\gpano\\Desktop\\github_py\\proteomics_latent_space\\models\n",
      "model path c:\\Users\\gpano\\Desktop\\github_py\\proteomics_latent_space\\models\\abms.sim_noscale_0_54_30\n"
     ]
    },
    {
     "data": {
      "application/vnd.jupyter.widget-view+json": {
       "model_id": "198154cd8781455daf95ef57d43bdd7a",
       "version_major": 2,
       "version_minor": 0
      },
      "text/plain": [
       "  0%|          | 0/201 [00:00<?, ?it/s]"
      ]
     },
     "metadata": {},
     "output_type": "display_data"
    },
    {
     "name": "stdout",
     "output_type": "stream",
     "text": [
      "Performing pre-training evaluation on the model in epoch 0\n",
      "\n",
      "Val loss: 84.647| Val KL: 83.17765045166016 | Val Rec: 1.470\n",
      "\n",
      "Patience exceeded at 71 with last checkpoint saved at 63\n",
      "changed learning rate to 0.001\n",
      "Early stopping at epoch 90 with last checkpoint saved at 79\n",
      "Model saved at: c:\\Users\\gpano\\Desktop\\github_py\\proteomics_latent_space\\models\\abms.sim_noscale_0_54_30\n",
      "Model: abms.sim_noscale_0_54_30_ep79_norm0_bits4_bs128_lr0.001 has been trained\n",
      "Using this model abms.sim_noscale_0_54_30_ep79_norm0_bits4_bs128_lr0.001\n",
      "The decoder output is transformed with an activation function, so reoconstructions are scaled.\n"
     ]
    },
    {
     "name": "stderr",
     "output_type": "stream",
     "text": [
      "c:\\Users\\gpano\\anaconda3\\envs\\scbc\\Lib\\site-packages\\sklearn\\utils\\deprecation.py:151: FutureWarning: 'force_all_finite' was renamed to 'ensure_all_finite' in 1.6 and will be removed in 1.8.\n",
      "  warnings.warn(\n",
      "c:\\Users\\gpano\\anaconda3\\envs\\scbc\\Lib\\site-packages\\umap\\umap_.py:1952: UserWarning: n_jobs value 1 overridden to 1 by setting random_state. Use no seed for parallelism.\n",
      "  warn(\n"
     ]
    },
    {
     "name": "stdout",
     "output_type": "stream",
     "text": [
      "abms.sim_noscale_0_54_30\n",
      "cor_base\n",
      "13 0 54 30\n",
      "Directory already exists: c:\\Users\\gpano\\Desktop\\github_py\\proteomics_latent_space\\models\n",
      "model path c:\\Users\\gpano\\Desktop\\github_py\\proteomics_latent_space\\models\\abms.sim_noscale_0_54_30\n"
     ]
    },
    {
     "data": {
      "application/vnd.jupyter.widget-view+json": {
       "model_id": "a99fde1561a34847906cfce99c503e79",
       "version_major": 2,
       "version_minor": 0
      },
      "text/plain": [
       "  0%|          | 0/201 [00:00<?, ?it/s]"
      ]
     },
     "metadata": {},
     "output_type": "display_data"
    },
    {
     "name": "stdout",
     "output_type": "stream",
     "text": [
      "Performing pre-training evaluation on the model in epoch 0\n",
      "\n",
      "Val loss: 84.650| Val KL: 83.17765045166016 | Val Rec: 1.472\n",
      "\n",
      "Patience exceeded at 51 with last checkpoint saved at 43\n",
      "changed learning rate to 0.001\n",
      "Early stopping at epoch 71 with last checkpoint saved at 60\n",
      "Model saved at: c:\\Users\\gpano\\Desktop\\github_py\\proteomics_latent_space\\models\\abms.sim_noscale_0_54_30\n",
      "Model: abms.sim_noscale_0_54_30_ep60_norm0_bits4_bs128_lr0.001 has been trained\n",
      "Using this model abms.sim_noscale_0_54_30_ep60_norm0_bits4_bs128_lr0.001\n",
      "The decoder output is transformed with an activation function, so reoconstructions are scaled.\n"
     ]
    },
    {
     "name": "stderr",
     "output_type": "stream",
     "text": [
      "c:\\Users\\gpano\\anaconda3\\envs\\scbc\\Lib\\site-packages\\sklearn\\utils\\deprecation.py:151: FutureWarning: 'force_all_finite' was renamed to 'ensure_all_finite' in 1.6 and will be removed in 1.8.\n",
      "  warnings.warn(\n",
      "c:\\Users\\gpano\\anaconda3\\envs\\scbc\\Lib\\site-packages\\umap\\umap_.py:1952: UserWarning: n_jobs value 1 overridden to 1 by setting random_state. Use no seed for parallelism.\n",
      "  warn(\n"
     ]
    },
    {
     "name": "stdout",
     "output_type": "stream",
     "text": [
      "abms.sim_noscale_0_54_30\n",
      "cor_base\n",
      "14 0 54 30\n",
      "Directory already exists: c:\\Users\\gpano\\Desktop\\github_py\\proteomics_latent_space\\models\n",
      "model path c:\\Users\\gpano\\Desktop\\github_py\\proteomics_latent_space\\models\\abms.sim_noscale_0_54_30\n"
     ]
    },
    {
     "data": {
      "application/vnd.jupyter.widget-view+json": {
       "model_id": "308ba90090f94faca215e895c0a78d50",
       "version_major": 2,
       "version_minor": 0
      },
      "text/plain": [
       "  0%|          | 0/201 [00:00<?, ?it/s]"
      ]
     },
     "metadata": {},
     "output_type": "display_data"
    },
    {
     "name": "stdout",
     "output_type": "stream",
     "text": [
      "Performing pre-training evaluation on the model in epoch 0\n",
      "\n",
      "Val loss: 84.649| Val KL: 83.17765045166016 | Val Rec: 1.471\n",
      "\n",
      "Patience exceeded at 63 with last checkpoint saved at 55\n",
      "changed learning rate to 0.001\n",
      "Early stopping at epoch 109 with last checkpoint saved at 98\n",
      "Model saved at: c:\\Users\\gpano\\Desktop\\github_py\\proteomics_latent_space\\models\\abms.sim_noscale_0_54_30\n",
      "Model: abms.sim_noscale_0_54_30_ep98_norm0_bits4_bs128_lr0.001 has been trained\n",
      "Using this model abms.sim_noscale_0_54_30_ep98_norm0_bits4_bs128_lr0.001\n",
      "The decoder output is transformed with an activation function, so reoconstructions are scaled.\n"
     ]
    },
    {
     "name": "stderr",
     "output_type": "stream",
     "text": [
      "c:\\Users\\gpano\\anaconda3\\envs\\scbc\\Lib\\site-packages\\sklearn\\utils\\deprecation.py:151: FutureWarning: 'force_all_finite' was renamed to 'ensure_all_finite' in 1.6 and will be removed in 1.8.\n",
      "  warnings.warn(\n",
      "c:\\Users\\gpano\\anaconda3\\envs\\scbc\\Lib\\site-packages\\umap\\umap_.py:1952: UserWarning: n_jobs value 1 overridden to 1 by setting random_state. Use no seed for parallelism.\n",
      "  warn(\n"
     ]
    },
    {
     "name": "stdout",
     "output_type": "stream",
     "text": [
      "abms.sim_noscale_0_54_30\n",
      "cor_base\n",
      "15 0 54 30\n",
      "Directory already exists: c:\\Users\\gpano\\Desktop\\github_py\\proteomics_latent_space\\models\n",
      "model path c:\\Users\\gpano\\Desktop\\github_py\\proteomics_latent_space\\models\\abms.sim_noscale_0_54_30\n"
     ]
    },
    {
     "data": {
      "application/vnd.jupyter.widget-view+json": {
       "model_id": "7e7e8bfd88ab4dbfb40d0e35dc9f7d1c",
       "version_major": 2,
       "version_minor": 0
      },
      "text/plain": [
       "  0%|          | 0/201 [00:00<?, ?it/s]"
      ]
     },
     "metadata": {},
     "output_type": "display_data"
    },
    {
     "name": "stdout",
     "output_type": "stream",
     "text": [
      "Performing pre-training evaluation on the model in epoch 0\n",
      "\n",
      "Val loss: 84.649| Val KL: 83.17765045166016 | Val Rec: 1.471\n",
      "\n",
      "Patience exceeded at 50 with last checkpoint saved at 42\n",
      "changed learning rate to 0.001\n",
      "Early stopping at epoch 84 with last checkpoint saved at 73\n",
      "Model saved at: c:\\Users\\gpano\\Desktop\\github_py\\proteomics_latent_space\\models\\abms.sim_noscale_0_54_30\n",
      "Model: abms.sim_noscale_0_54_30_ep73_norm0_bits4_bs128_lr0.001 has been trained\n",
      "Using this model abms.sim_noscale_0_54_30_ep73_norm0_bits4_bs128_lr0.001\n",
      "The decoder output is transformed with an activation function, so reoconstructions are scaled.\n"
     ]
    },
    {
     "name": "stderr",
     "output_type": "stream",
     "text": [
      "c:\\Users\\gpano\\anaconda3\\envs\\scbc\\Lib\\site-packages\\sklearn\\utils\\deprecation.py:151: FutureWarning: 'force_all_finite' was renamed to 'ensure_all_finite' in 1.6 and will be removed in 1.8.\n",
      "  warnings.warn(\n",
      "c:\\Users\\gpano\\anaconda3\\envs\\scbc\\Lib\\site-packages\\umap\\umap_.py:1952: UserWarning: n_jobs value 1 overridden to 1 by setting random_state. Use no seed for parallelism.\n",
      "  warn(\n"
     ]
    },
    {
     "name": "stdout",
     "output_type": "stream",
     "text": [
      "abms.sim_noscale_0_54_30\n",
      "cor_base\n",
      "16 0 54 30\n",
      "Directory already exists: c:\\Users\\gpano\\Desktop\\github_py\\proteomics_latent_space\\models\n",
      "model path c:\\Users\\gpano\\Desktop\\github_py\\proteomics_latent_space\\models\\abms.sim_noscale_0_54_30\n"
     ]
    },
    {
     "data": {
      "application/vnd.jupyter.widget-view+json": {
       "model_id": "1c353ac2584b4b9bbfbeadb835b1d5a7",
       "version_major": 2,
       "version_minor": 0
      },
      "text/plain": [
       "  0%|          | 0/201 [00:00<?, ?it/s]"
      ]
     },
     "metadata": {},
     "output_type": "display_data"
    },
    {
     "name": "stdout",
     "output_type": "stream",
     "text": [
      "Performing pre-training evaluation on the model in epoch 0\n",
      "\n",
      "Val loss: 84.650| Val KL: 83.17765045166016 | Val Rec: 1.472\n",
      "\n",
      "Patience exceeded at 51 with last checkpoint saved at 43\n",
      "changed learning rate to 0.001\n",
      "Early stopping at epoch 82 with last checkpoint saved at 71\n",
      "Model saved at: c:\\Users\\gpano\\Desktop\\github_py\\proteomics_latent_space\\models\\abms.sim_noscale_0_54_30\n",
      "Model: abms.sim_noscale_0_54_30_ep71_norm0_bits4_bs128_lr0.001 has been trained\n",
      "Using this model abms.sim_noscale_0_54_30_ep71_norm0_bits4_bs128_lr0.001\n",
      "The decoder output is transformed with an activation function, so reoconstructions are scaled.\n"
     ]
    },
    {
     "name": "stderr",
     "output_type": "stream",
     "text": [
      "c:\\Users\\gpano\\anaconda3\\envs\\scbc\\Lib\\site-packages\\sklearn\\utils\\deprecation.py:151: FutureWarning: 'force_all_finite' was renamed to 'ensure_all_finite' in 1.6 and will be removed in 1.8.\n",
      "  warnings.warn(\n",
      "c:\\Users\\gpano\\anaconda3\\envs\\scbc\\Lib\\site-packages\\umap\\umap_.py:1952: UserWarning: n_jobs value 1 overridden to 1 by setting random_state. Use no seed for parallelism.\n",
      "  warn(\n"
     ]
    },
    {
     "name": "stdout",
     "output_type": "stream",
     "text": [
      "abms.sim_noscale_0_54_30\n",
      "cor_base\n",
      "17 0 54 30\n",
      "Directory already exists: c:\\Users\\gpano\\Desktop\\github_py\\proteomics_latent_space\\models\n",
      "model path c:\\Users\\gpano\\Desktop\\github_py\\proteomics_latent_space\\models\\abms.sim_noscale_0_54_30\n"
     ]
    },
    {
     "data": {
      "application/vnd.jupyter.widget-view+json": {
       "model_id": "5ec72af342a74264ab67cf591b55340d",
       "version_major": 2,
       "version_minor": 0
      },
      "text/plain": [
       "  0%|          | 0/201 [00:00<?, ?it/s]"
      ]
     },
     "metadata": {},
     "output_type": "display_data"
    },
    {
     "name": "stdout",
     "output_type": "stream",
     "text": [
      "Performing pre-training evaluation on the model in epoch 0\n",
      "\n",
      "Val loss: 84.643| Val KL: 83.17765045166016 | Val Rec: 1.465\n",
      "\n",
      "Patience exceeded at 66 with last checkpoint saved at 58\n",
      "changed learning rate to 0.001\n",
      "Early stopping at epoch 105 with last checkpoint saved at 94\n",
      "Model saved at: c:\\Users\\gpano\\Desktop\\github_py\\proteomics_latent_space\\models\\abms.sim_noscale_0_54_30\n",
      "Model: abms.sim_noscale_0_54_30_ep94_norm0_bits4_bs128_lr0.001 has been trained\n",
      "Using this model abms.sim_noscale_0_54_30_ep94_norm0_bits4_bs128_lr0.001\n",
      "The decoder output is transformed with an activation function, so reoconstructions are scaled.\n"
     ]
    },
    {
     "name": "stderr",
     "output_type": "stream",
     "text": [
      "c:\\Users\\gpano\\anaconda3\\envs\\scbc\\Lib\\site-packages\\sklearn\\utils\\deprecation.py:151: FutureWarning: 'force_all_finite' was renamed to 'ensure_all_finite' in 1.6 and will be removed in 1.8.\n",
      "  warnings.warn(\n",
      "c:\\Users\\gpano\\anaconda3\\envs\\scbc\\Lib\\site-packages\\umap\\umap_.py:1952: UserWarning: n_jobs value 1 overridden to 1 by setting random_state. Use no seed for parallelism.\n",
      "  warn(\n"
     ]
    },
    {
     "name": "stdout",
     "output_type": "stream",
     "text": [
      "abms.sim_noscale_0_54_30\n",
      "cor_base\n",
      "18 0 54 30\n",
      "Directory already exists: c:\\Users\\gpano\\Desktop\\github_py\\proteomics_latent_space\\models\n",
      "model path c:\\Users\\gpano\\Desktop\\github_py\\proteomics_latent_space\\models\\abms.sim_noscale_0_54_30\n"
     ]
    },
    {
     "data": {
      "application/vnd.jupyter.widget-view+json": {
       "model_id": "680bcc54bf374ad0bc73133ca96fcc4d",
       "version_major": 2,
       "version_minor": 0
      },
      "text/plain": [
       "  0%|          | 0/201 [00:00<?, ?it/s]"
      ]
     },
     "metadata": {},
     "output_type": "display_data"
    },
    {
     "name": "stdout",
     "output_type": "stream",
     "text": [
      "Performing pre-training evaluation on the model in epoch 0\n",
      "\n",
      "Val loss: 84.649| Val KL: 83.17765045166016 | Val Rec: 1.471\n",
      "\n",
      "Patience exceeded at 58 with last checkpoint saved at 50\n",
      "changed learning rate to 0.001\n",
      "Early stopping at epoch 70 with last checkpoint saved at 59\n",
      "Model saved at: c:\\Users\\gpano\\Desktop\\github_py\\proteomics_latent_space\\models\\abms.sim_noscale_0_54_30\n",
      "Model: abms.sim_noscale_0_54_30_ep59_norm0_bits4_bs128_lr0.001 has been trained\n",
      "Using this model abms.sim_noscale_0_54_30_ep59_norm0_bits4_bs128_lr0.001\n",
      "The decoder output is transformed with an activation function, so reoconstructions are scaled.\n"
     ]
    },
    {
     "name": "stderr",
     "output_type": "stream",
     "text": [
      "c:\\Users\\gpano\\anaconda3\\envs\\scbc\\Lib\\site-packages\\sklearn\\utils\\deprecation.py:151: FutureWarning: 'force_all_finite' was renamed to 'ensure_all_finite' in 1.6 and will be removed in 1.8.\n",
      "  warnings.warn(\n",
      "c:\\Users\\gpano\\anaconda3\\envs\\scbc\\Lib\\site-packages\\umap\\umap_.py:1952: UserWarning: n_jobs value 1 overridden to 1 by setting random_state. Use no seed for parallelism.\n",
      "  warn(\n"
     ]
    },
    {
     "name": "stdout",
     "output_type": "stream",
     "text": [
      "abms.sim_noscale_0_54_30\n",
      "cor_base\n",
      "19 0 54 30\n",
      "Directory already exists: c:\\Users\\gpano\\Desktop\\github_py\\proteomics_latent_space\\models\n",
      "model path c:\\Users\\gpano\\Desktop\\github_py\\proteomics_latent_space\\models\\abms.sim_noscale_0_54_30\n"
     ]
    },
    {
     "data": {
      "application/vnd.jupyter.widget-view+json": {
       "model_id": "73ddefa7b28042bba44c8430c9d8602f",
       "version_major": 2,
       "version_minor": 0
      },
      "text/plain": [
       "  0%|          | 0/201 [00:00<?, ?it/s]"
      ]
     },
     "metadata": {},
     "output_type": "display_data"
    },
    {
     "name": "stdout",
     "output_type": "stream",
     "text": [
      "Performing pre-training evaluation on the model in epoch 0\n",
      "\n",
      "Val loss: 84.647| Val KL: 83.17765045166016 | Val Rec: 1.470\n",
      "\n",
      "Patience exceeded at 51 with last checkpoint saved at 43\n",
      "changed learning rate to 0.001\n",
      "Early stopping at epoch 74 with last checkpoint saved at 63\n",
      "Model saved at: c:\\Users\\gpano\\Desktop\\github_py\\proteomics_latent_space\\models\\abms.sim_noscale_0_54_30\n",
      "Model: abms.sim_noscale_0_54_30_ep63_norm0_bits4_bs128_lr0.001 has been trained\n",
      "Using this model abms.sim_noscale_0_54_30_ep63_norm0_bits4_bs128_lr0.001\n",
      "The decoder output is transformed with an activation function, so reoconstructions are scaled.\n"
     ]
    },
    {
     "name": "stderr",
     "output_type": "stream",
     "text": [
      "c:\\Users\\gpano\\anaconda3\\envs\\scbc\\Lib\\site-packages\\sklearn\\utils\\deprecation.py:151: FutureWarning: 'force_all_finite' was renamed to 'ensure_all_finite' in 1.6 and will be removed in 1.8.\n",
      "  warnings.warn(\n",
      "c:\\Users\\gpano\\anaconda3\\envs\\scbc\\Lib\\site-packages\\umap\\umap_.py:1952: UserWarning: n_jobs value 1 overridden to 1 by setting random_state. Use no seed for parallelism.\n",
      "  warn(\n"
     ]
    },
    {
     "name": "stdout",
     "output_type": "stream",
     "text": [
      "abms.sim_noscale_0_54_30\n",
      "cor_base\n",
      "20 0 54 30\n",
      "Directory already exists: c:\\Users\\gpano\\Desktop\\github_py\\proteomics_latent_space\\models\n",
      "model path c:\\Users\\gpano\\Desktop\\github_py\\proteomics_latent_space\\models\\abms.sim_noscale_0_54_30\n"
     ]
    },
    {
     "data": {
      "application/vnd.jupyter.widget-view+json": {
       "model_id": "598a5c699f0e4c9ea61d5d370d516cf9",
       "version_major": 2,
       "version_minor": 0
      },
      "text/plain": [
       "  0%|          | 0/201 [00:00<?, ?it/s]"
      ]
     },
     "metadata": {},
     "output_type": "display_data"
    },
    {
     "name": "stdout",
     "output_type": "stream",
     "text": [
      "Performing pre-training evaluation on the model in epoch 0\n",
      "\n",
      "Val loss: 84.651| Val KL: 83.17765045166016 | Val Rec: 1.474\n",
      "\n",
      "Patience exceeded at 64 with last checkpoint saved at 56\n",
      "changed learning rate to 0.001\n",
      "Early stopping at epoch 118 with last checkpoint saved at 107\n",
      "Model saved at: c:\\Users\\gpano\\Desktop\\github_py\\proteomics_latent_space\\models\\abms.sim_noscale_0_54_30\n",
      "Model: abms.sim_noscale_0_54_30_ep107_norm0_bits4_bs128_lr0.001 has been trained\n",
      "Using this model abms.sim_noscale_0_54_30_ep107_norm0_bits4_bs128_lr0.001\n",
      "The decoder output is transformed with an activation function, so reoconstructions are scaled.\n"
     ]
    },
    {
     "name": "stderr",
     "output_type": "stream",
     "text": [
      "c:\\Users\\gpano\\anaconda3\\envs\\scbc\\Lib\\site-packages\\sklearn\\utils\\deprecation.py:151: FutureWarning: 'force_all_finite' was renamed to 'ensure_all_finite' in 1.6 and will be removed in 1.8.\n",
      "  warnings.warn(\n",
      "c:\\Users\\gpano\\anaconda3\\envs\\scbc\\Lib\\site-packages\\umap\\umap_.py:1952: UserWarning: n_jobs value 1 overridden to 1 by setting random_state. Use no seed for parallelism.\n",
      "  warn(\n"
     ]
    },
    {
     "name": "stdout",
     "output_type": "stream",
     "text": [
      "abms.sim_noscale_0_54_30\n",
      "cor_base\n",
      "22 0 54 30\n",
      "Directory already exists: c:\\Users\\gpano\\Desktop\\github_py\\proteomics_latent_space\\models\n",
      "model path c:\\Users\\gpano\\Desktop\\github_py\\proteomics_latent_space\\models\\abms.sim_noscale_0_54_30\n"
     ]
    },
    {
     "data": {
      "application/vnd.jupyter.widget-view+json": {
       "model_id": "f09797519b6d4b2e84775b9c8e04fb28",
       "version_major": 2,
       "version_minor": 0
      },
      "text/plain": [
       "  0%|          | 0/201 [00:00<?, ?it/s]"
      ]
     },
     "metadata": {},
     "output_type": "display_data"
    },
    {
     "name": "stdout",
     "output_type": "stream",
     "text": [
      "Performing pre-training evaluation on the model in epoch 0\n",
      "\n",
      "Val loss: 84.646| Val KL: 83.17765045166016 | Val Rec: 1.468\n",
      "\n",
      "Patience exceeded at 56 with last checkpoint saved at 48\n",
      "changed learning rate to 0.001\n",
      "Early stopping at epoch 80 with last checkpoint saved at 69\n",
      "Model saved at: c:\\Users\\gpano\\Desktop\\github_py\\proteomics_latent_space\\models\\abms.sim_noscale_0_54_30\n",
      "Model: abms.sim_noscale_0_54_30_ep69_norm0_bits4_bs128_lr0.001 has been trained\n",
      "Using this model abms.sim_noscale_0_54_30_ep69_norm0_bits4_bs128_lr0.001\n",
      "The decoder output is transformed with an activation function, so reoconstructions are scaled.\n"
     ]
    },
    {
     "name": "stderr",
     "output_type": "stream",
     "text": [
      "c:\\Users\\gpano\\anaconda3\\envs\\scbc\\Lib\\site-packages\\sklearn\\utils\\deprecation.py:151: FutureWarning: 'force_all_finite' was renamed to 'ensure_all_finite' in 1.6 and will be removed in 1.8.\n",
      "  warnings.warn(\n",
      "c:\\Users\\gpano\\anaconda3\\envs\\scbc\\Lib\\site-packages\\umap\\umap_.py:1952: UserWarning: n_jobs value 1 overridden to 1 by setting random_state. Use no seed for parallelism.\n",
      "  warn(\n"
     ]
    },
    {
     "name": "stdout",
     "output_type": "stream",
     "text": [
      "abms.sim_noscale_0_54_30\n",
      "cor_base\n"
     ]
    },
    {
     "data": {
      "text/plain": [
       "((10, 8), (20, 4))"
      ]
     },
     "execution_count": 360,
     "metadata": {},
     "output_type": "execute_result"
    }
   ],
   "source": [
    "# dimlist = [(54,30)]\n",
    "# future for loop for at least 10 different seeds \n",
    "outer_final_df = None\n",
    "outer_metrics_df = None\n",
    "\n",
    "for s, seed in enumerate([12,13,14,15,16,17,18,19,20,22]):\n",
    "    \n",
    "    # if s > 3:\n",
    "    #     break\n",
    "\n",
    "    # here we concatanate all the dataframes that are generated per seed (with all the different combinations)\n",
    "    # set the umap function for the embeddings \n",
    "    umap_model = umap.UMAP(n_neighbors=30,\n",
    "                           min_dist=0.2,\n",
    "                           n_components=3,\n",
    "                           metric=\"euclidean\",\n",
    "                           random_state=seed)\n",
    "\n",
    "    seed = seed\n",
    "    torch.manual_seed(seed)\n",
    "\n",
    "    # here we store the metrics of the models for one seed \n",
    "    final_df = None\n",
    "    final_feature_df = None\n",
    "    model_list = []\n",
    "\n",
    "    # iterate over the combinations of the VAE layers \n",
    "    for i, tup in enumerate(comb_list):\n",
    "        hidden_dim, latent_dim, n = tup[0], tup[1], i\n",
    "        print(seed,i, hidden_dim, latent_dim)\n",
    "\n",
    "        # Instantiate the model\n",
    "        model1 = v1.VAE(\n",
    "            n_features=54,\n",
    "            latent_dim=latent_dim,\n",
    "            hidden_layer=True,\n",
    "            hidden_dim=hidden_dim,\n",
    "            output_activ=None, # nn.Sigmoid() if scaled to 0-1 \n",
    "        ).to(device)\n",
    "\n",
    "        # need to set the model name with the layers - usefull for creating its unique folder \n",
    "        model_name = f\"abms.sim_noscale_{n}_{hidden_dim}_{latent_dim}\"\n",
    "        model_list.append(model_name)\n",
    "        # the optimizer is in the train-val loop \n",
    "\n",
    "\n",
    "        ## Create a \"models\" folder and the specifics model's directory to save figures  \n",
    "\n",
    "        # create the models directory path \n",
    "        path_dir = os.getcwd() + \"\\\\models\"\n",
    "\n",
    "        # Check if the models directory exists, if not, create it\n",
    "        if not os.path.exists(path_dir):\n",
    "            os.makedirs(path_dir)\n",
    "            print(f\"Created directory: {path_dir}\")\n",
    "        else:\n",
    "            print(f\"Directory already exists: {path_dir}\")\n",
    "\n",
    "        # create a subdirectory for each model based on #number and name (the dims of layers)\n",
    "        model_path = os.path.join(path_dir,model_name)\n",
    "        if not os.path.exists(model_path):\n",
    "            os.makedirs(model_path)\n",
    "        model_path\n",
    "\n",
    "\n",
    "        ## Final Important part\n",
    "\n",
    "        # set all the parameters to variables because all functions depend on them\n",
    "        model = model1\n",
    "        loss_fun = cf.loss_fun_gauss\n",
    "        model_name=model_name\n",
    "        path=model_path\n",
    "        epoch = 200\n",
    "        learn_r = 0.0025\n",
    "        freebits = 4\n",
    "        batch_size = 128\n",
    "        norm = 0\n",
    "\n",
    "        # the path where this model is going to be saved \n",
    "        print(f\"model path {path}\")\n",
    "\n",
    "        # run the training for the model\n",
    "        # Run the loop - see the parameters \n",
    "\n",
    "        batch_dict, epoch_dict,hyperparam_str = uf.train_val_loop_v3(\n",
    "        model = model,\n",
    "        train_loader=train_loader,\n",
    "        val_loader=val_loader, \n",
    "        loss_fun = loss_fun,\n",
    "        model_name=model_name,\n",
    "        model_path=path,\n",
    "        epoch = epoch,\n",
    "        patience = 7,\n",
    "        learn_r = learn_r,\n",
    "        freebits = freebits,\n",
    "        batch_size = batch_size,\n",
    "        norm = norm\n",
    "        )\n",
    "\n",
    "        # write the full model id\n",
    "        model_id = model_name + \"_\" + hyperparam_str\n",
    "        print(f\"Model: {model_id} has been trained\")\n",
    "\n",
    "\n",
    "        # next run the test set analysis for the eaxh model and get the results test_iter_dict and test_metrics \n",
    "        test_iter_dict, test_metrics = uf.test_set_analysis(\n",
    "        model=model,\n",
    "        test_loader=test_loader,\n",
    "        loss_fun = loss_fun,\n",
    "        freebits=freebits,\n",
    "        model_id=model_id\n",
    "    )\n",
    "        # create the the dataframe to store per model metrics \n",
    "        test_df = pd.DataFrame([test_metrics])\n",
    "        test_df[\"hidden_dim\"] = hidden_dim\n",
    "        test_df[\"latent_dim\"] = latent_dim\n",
    "        test_df[\"seed\"] = seed\n",
    "        \n",
    "        # extract latent variables from the whole dataset using the trained model\n",
    "        # latent list\n",
    "        latent_list = list()\n",
    "        with torch.inference_mode():\n",
    "            model.eval()\n",
    "            for batch, _, _ in whole_loader:\n",
    "                batch = batch.to(device)\n",
    "                latent, _ = model.get_latent_variables(batch, detach=True)\n",
    "                latent_list.append(latent.cpu().detach().numpy())\n",
    "            \n",
    "        latent_arr = np.vstack(latent_list)\n",
    "        latent_df = pd.DataFrame(latent_arr, index=data.index, columns=[f\"z{str(i)}\" for i in range(latent_dim)])\n",
    "\n",
    "        # after gettng the latent variables perform umap on them \n",
    "        umap_latent = umap_model.fit_transform(latent_df)\n",
    "        umap_df = pd.DataFrame(umap_latent, index=data.index, columns=[f\"dim1\",f\"dim2\",f\"dim3\"])\n",
    "\n",
    "\n",
    "        # thing to remove after the iteration is finished umap_latent, latent_df, umap_dist \n",
    "        if final_df is None:\n",
    "            final_df = test_df\n",
    "        else:\n",
    "            final_df = pd.concat([final_df,test_df],axis=0)\n",
    "        \n",
    "        gc.collect()\n",
    "\n",
    "        # get the feature from the specific model parameters\n",
    "    \n",
    "        # proteins that exist withing ground truth databases\n",
    "        proteins_in_pairs = set(pairs_df.iloc[:, 0]).union(set(pairs_df.iloc[:, 1]))\n",
    "\n",
    "        # subset by what is in the ground truth pairs\n",
    "        latent_df_sub = latent_df.loc[latent_df.index.intersection(proteins_in_pairs)]\n",
    "        umap_df_sub = umap_df.loc[umap_df.index.intersection(proteins_in_pairs)]\n",
    "\n",
    "\n",
    "        # perform corralation analysis for latent and euclidean distance calculation for umap embeddings\n",
    "\n",
    "\n",
    "\n",
    "        corr_matrix = pd.DataFrame(np.corrcoef(latent_df_sub),\n",
    "                                index=latent_df_sub.index,\n",
    "                                columns=latent_df_sub.index)\n",
    "\n",
    "        # fix the matrices of each feature type \n",
    "\n",
    "        cor_feat = (corr_matrix\n",
    "                    .reset_index()\n",
    "                    .melt(id_vars=\"index\", var_name=\"Var2\", value_name=f\"cor_feature_{model_name}\")\n",
    "                    .rename(columns={\"index\":\"Var1\"})\n",
    "        )\n",
    "\n",
    "        ##\n",
    "        umap_dist = pd.DataFrame(pairwise_distances(umap_df_sub, metric=\"euclidean\"),\n",
    "                                index = umap_df_sub.index,\n",
    "                                columns=umap_df_sub.index)\n",
    "\n",
    "        umap_dist = umap_dist.reset_index().melt(id_vars=\"index\", var_name=\"Var2\", value_name=f\"euc_feature_{model_name}\").rename(columns={\"index\":\"Var1\"})\n",
    "\n",
    "\n",
    "\n",
    "        ## filter duplicates and self-correlations/distances, keep only Var1>Var2\n",
    "        cor_feat = cor_feat[cor_feat[\"Var1\"]!=cor_feat[\"Var2\"]]\n",
    "        cor_feat = cor_feat[cor_feat[\"Var1\"]>cor_feat[\"Var2\"]]\n",
    "\n",
    "        umap_dist = umap_dist[umap_dist[\"Var1\"]!=umap_dist[\"Var2\"]]\n",
    "        umap_dist = umap_dist[umap_dist[\"Var1\"]>umap_dist[\"Var2\"]]\n",
    "\n",
    "\n",
    "        ## get a true protein pairs character vector\n",
    "        pair_chars = pairs_df[\"V1\"].astype(str) + \"_\" + pairs_df[\"V2\"].astype(str)\n",
    "\n",
    "        ## get ground truth classes of each feature category\n",
    "        cor_feat[\"db\"] = np.where((cor_feat[\"Var1\"].astype(str) + \"_\" + cor_feat[\"Var2\"].astype(str)).isin(pair_chars), 1, 0)\n",
    "        umap_dist[\"db\"] = np.where((umap_dist[\"Var1\"].astype(str) + \"_\" + umap_dist[\"Var2\"].astype(str)).isin(pair_chars), 1, 0)\n",
    "\n",
    "        # merge both dataframes using reduce and lambda function\n",
    "        feature_df = reduce(lambda left, right: pd.merge(left, right, on=[\"Var1\", \"Var2\", \"db\"], how=\"inner\"), [cor_feat, umap_dist])\n",
    "\n",
    "        if final_feature_df is None:\n",
    "            final_feature_df = feature_df\n",
    "        else:\n",
    "            final_feature_df = reduce(lambda left, right: pd.merge(left, right, on=[\"Var1\", \"Var2\", \"db\"], how=\"inner\"), [final_feature_df, feature_df])\n",
    "        \n",
    "        del cor_feat, umap_dist, pair_chars, corr_matrix, latent_df_sub, umap_df_sub, umap_latent, feature_df\n",
    "        \n",
    "        gc.collect()\n",
    "\n",
    "\n",
    "    # out of the first loop \n",
    "\n",
    "\n",
    "    # create cor features from the base \n",
    "    proteins_in_pairs = set(pairs_df.iloc[:, 0]).union(set(pairs_df.iloc[:, 1]))\n",
    "\n",
    "    data_sub = data.loc[data.index.intersection(proteins_in_pairs)]\n",
    "    corr_matrix_base = data_sub.T.corr(method=\"pearson\")\n",
    "\n",
    "    cor_feat_base = (corr_matrix_base\n",
    "                .reset_index()\n",
    "                .melt(id_vars=\"index\", var_name=\"Var2\", value_name=f\"cor_base\")\n",
    "                .rename(columns={\"index\":\"Var1\"})\n",
    "    )\n",
    "    cor_feat_base = cor_feat_base[cor_feat_base[\"Var1\"]!=cor_feat_base[\"Var2\"]]\n",
    "    cor_feat_base = cor_feat_base[cor_feat_base[\"Var1\"]>cor_feat_base[\"Var2\"]]\n",
    "\n",
    "    pair_chars = pairs_df[\"V1\"].astype(str) + \"_\" + pairs_df[\"V2\"].astype(str)\n",
    "    cor_feat_base[\"db\"] = np.where((cor_feat_base[\"Var1\"].astype(str) + \"_\" + cor_feat_base[\"Var2\"].astype(str)).isin(pair_chars), 1, 0) \n",
    "\n",
    "    # add the base cor-predictor to the feature list as well as to the model list\n",
    "    model_list.append(\"cor_base\")\n",
    "    final_feature_df= final_feature_df.merge(cor_feat_base, on=[\"Var1\",\"Var2\",\"db\"], how=\"inner\")\n",
    "\n",
    "\n",
    "\n",
    "\n",
    "    ###### from this part and so on feature extraction for all combinations ######\n",
    "    metrics_df = None\n",
    "    # all combinations should be based on the same sampling procedure for more accurate comparisons \n",
    "\n",
    "    # begin with the L2 regression \n",
    "    pos_df = final_feature_df[final_feature_df['db'] == 1]\n",
    "    neg_df = final_feature_df[final_feature_df['db'] == 0]\n",
    "\n",
    "    # sample the negatives with randomization and create final dataset df\n",
    "    neg_df = neg_df.sample(n=pos_df.shape[0], random_state=seed)\n",
    "    sample_df = pd.concat([pos_df,neg_df]).sample(frac=1, random_state=seed)\n",
    "    del pos_df, neg_df\n",
    "\n",
    "    X = sample_df.drop([\"Var1\", \"Var2\", \"db\"], axis=1) \n",
    "    # umapX = sample_df[[\"euc_feature\"]]\n",
    "    y = sample_df[\"db\"]\n",
    "\n",
    "    X_train, X_test, y_train, y_test = train_test_split(X, y, test_size=0.2, random_state=seed)\n",
    "\n",
    "    classifier_pipe = Pipeline([\n",
    "        (\"scaler\", StandardScaler()),\n",
    "        (\"logreg\", LogisticRegression(penalty=\"l2\", solver=\"liblinear\", random_state=seed))\n",
    "    ])\n",
    "\n",
    "    param_grid = {\n",
    "        'logreg__C': [0.01]\n",
    "    }\n",
    "\n",
    "    for model_n in model_list:\n",
    "        print(model_n)\n",
    "        if model_n != \"cor_base\":\n",
    "\n",
    "            # base_cor_grid = GridSearchCV(classifier_pipe, param_grid, cv=10, scoring='roc_auc', n_jobs=1)\n",
    "            cor_grid = GridSearchCV(classifier_pipe, param_grid, cv=10, scoring='roc_auc', n_jobs=1)\n",
    "            euc_grid = GridSearchCV(classifier_pipe, param_grid, cv=10, scoring='roc_auc', n_jobs=1)\n",
    "\n",
    "\n",
    "            # base_cor_grid.fit(X_train[[\"cor_base\"]], y_train)\n",
    "            cor_grid.fit(X_train[[f\"cor_feature_{model_n}\"]], y_train)\n",
    "            euc_grid.fit(X_train[[f\"euc_feature_{model_n}\"]], y_train)\n",
    "\n",
    "            # basecor_cv_auc = base_cor_grid.best_score_\n",
    "            cor_cv_auc = cor_grid.best_score_\n",
    "            euc_cv_auc = euc_grid.best_score_\n",
    "\n",
    "            # y_pred_basecor = base_cor_grid.predict_proba(X_test[[\"cor_base\"]])[:, 1]\n",
    "            y_pred_cor = cor_grid.predict_proba(X_test[[f\"cor_feature_{model_n}\"]])[:, 1]\n",
    "            y_pred_euc = euc_grid.predict_proba(X_test[[f\"euc_feature_{model_n}\"]])[:, 1]\n",
    "\n",
    "            # basecor_test_auc = roc_auc_score(y_test, y_pred_basecor)\n",
    "            cor_test_auc = roc_auc_score(y_test, y_pred_cor)\n",
    "            euc_test_auc = roc_auc_score(y_test, y_pred_euc)\n",
    "\n",
    "            # final_df[\"test_basecor\"] = round(float(basecor_test_auc),3)\n",
    "            res_df = pd.DataFrame({\n",
    "                    \"model\" : [model_n],\n",
    "                    \"test_cor\" : [round(float(cor_test_auc),3)],\n",
    "                    \"test_umap\" : [round(float(euc_test_auc),3)],\n",
    "                    \"seed\" : seed\n",
    "                })\n",
    "\n",
    "            if metrics_df is None:\n",
    "                metrics_df = res_df\n",
    "            else:\n",
    "                metrics_df = pd.concat([metrics_df,res_df],axis=0)\n",
    "            \n",
    "            gc.collect()\n",
    "        \n",
    "        # potential issue when after correlation there are NAs, beacuse the proteins may not have overlapping samples (identify them)\n",
    "        else:\n",
    "            cor_grid = GridSearchCV(classifier_pipe, param_grid, cv=10, scoring='roc_auc', n_jobs=1)\n",
    "            cor_grid.fit(X_train[[model_n]], y_train)\n",
    "            y_pred_cor = cor_grid.predict_proba(X_test[[model_n]])[:, 1]\n",
    "            cor_test_auc = roc_auc_score(y_test, y_pred_cor)\n",
    "            res_df = pd.DataFrame({\n",
    "                    \"model\" : [model_n],\n",
    "                    \"test_cor\" : [round(float(cor_test_auc),3)],\n",
    "                    \"test_umap\" : 0,\n",
    "                    \"seed\" : seed\n",
    "                })\n",
    "            \n",
    "            if metrics_df is None:\n",
    "                metrics_df = res_df\n",
    "            else:\n",
    "                metrics_df = pd.concat([metrics_df,res_df],axis=0)\n",
    "\n",
    "    del X_train, X_test, y_train, y_test, param_grid, classifier_pipe, res_df\n",
    "    gc.collect()\n",
    "\n",
    "\n",
    "    if outer_final_df is None:\n",
    "        outer_final_df = final_df\n",
    "    else:\n",
    "        outer_final_df = pd.concat([outer_final_df, final_df], axis=0)\n",
    "\n",
    "    if outer_metrics_df is None:\n",
    "        outer_metrics_df = metrics_df\n",
    "    else:\n",
    "        outer_metrics_df = pd.concat([outer_metrics_df, metrics_df], axis=0)\n",
    "    # last step - make predictions for this batch of features\n",
    "\n",
    "\n",
    "outer_final_df.shape, outer_metrics_df.shape "
   ]
  },
  {
   "cell_type": "code",
   "execution_count": 361,
   "metadata": {},
   "outputs": [
    {
     "data": {
      "text/html": [
       "<div>\n",
       "<style scoped>\n",
       "    .dataframe tbody tr th:only-of-type {\n",
       "        vertical-align: middle;\n",
       "    }\n",
       "\n",
       "    .dataframe tbody tr th {\n",
       "        vertical-align: top;\n",
       "    }\n",
       "\n",
       "    .dataframe thead th {\n",
       "        text-align: right;\n",
       "    }\n",
       "</style>\n",
       "<table border=\"1\" class=\"dataframe\">\n",
       "  <thead>\n",
       "    <tr style=\"text-align: right;\">\n",
       "      <th></th>\n",
       "      <th>test_cor</th>\n",
       "      <th>test_umap</th>\n",
       "      <th>seed</th>\n",
       "    </tr>\n",
       "    <tr>\n",
       "      <th>model</th>\n",
       "      <th></th>\n",
       "      <th></th>\n",
       "      <th></th>\n",
       "    </tr>\n",
       "  </thead>\n",
       "  <tbody>\n",
       "    <tr>\n",
       "      <th>abms.sim_noscale_0_54_30</th>\n",
       "      <td>0.7172</td>\n",
       "      <td>0.7039</td>\n",
       "      <td>16.6</td>\n",
       "    </tr>\n",
       "    <tr>\n",
       "      <th>cor_base</th>\n",
       "      <td>0.7182</td>\n",
       "      <td>0.0000</td>\n",
       "      <td>16.6</td>\n",
       "    </tr>\n",
       "  </tbody>\n",
       "</table>\n",
       "</div>"
      ],
      "text/plain": [
       "                          test_cor  test_umap  seed\n",
       "model                                              \n",
       "abms.sim_noscale_0_54_30    0.7172     0.7039  16.6\n",
       "cor_base                    0.7182     0.0000  16.6"
      ]
     },
     "execution_count": 361,
     "metadata": {},
     "output_type": "execute_result"
    }
   ],
   "source": [
    "outer_metrics_df.groupby([\"model\"]).mean()"
   ]
  },
  {
   "cell_type": "code",
   "execution_count": 349,
   "metadata": {},
   "outputs": [
    {
     "data": {
      "text/html": [
       "<div>\n",
       "<style scoped>\n",
       "    .dataframe tbody tr th:only-of-type {\n",
       "        vertical-align: middle;\n",
       "    }\n",
       "\n",
       "    .dataframe tbody tr th {\n",
       "        vertical-align: top;\n",
       "    }\n",
       "\n",
       "    .dataframe thead th {\n",
       "        text-align: right;\n",
       "    }\n",
       "</style>\n",
       "<table border=\"1\" class=\"dataframe\">\n",
       "  <thead>\n",
       "    <tr style=\"text-align: right;\">\n",
       "      <th></th>\n",
       "      <th>model</th>\n",
       "      <th>test_cor</th>\n",
       "      <th>test_umap</th>\n",
       "      <th>seed</th>\n",
       "    </tr>\n",
       "  </thead>\n",
       "  <tbody>\n",
       "    <tr>\n",
       "      <th>0</th>\n",
       "      <td>abms.sim_noscale_0_54_30</td>\n",
       "      <td>0.717</td>\n",
       "      <td>0.718</td>\n",
       "      <td>12</td>\n",
       "    </tr>\n",
       "    <tr>\n",
       "      <th>0</th>\n",
       "      <td>cor_base</td>\n",
       "      <td>0.715</td>\n",
       "      <td>0.000</td>\n",
       "      <td>12</td>\n",
       "    </tr>\n",
       "    <tr>\n",
       "      <th>0</th>\n",
       "      <td>abms.sim_noscale_0_54_30</td>\n",
       "      <td>0.713</td>\n",
       "      <td>0.728</td>\n",
       "      <td>13</td>\n",
       "    </tr>\n",
       "    <tr>\n",
       "      <th>0</th>\n",
       "      <td>cor_base</td>\n",
       "      <td>0.714</td>\n",
       "      <td>0.000</td>\n",
       "      <td>13</td>\n",
       "    </tr>\n",
       "    <tr>\n",
       "      <th>0</th>\n",
       "      <td>abms.sim_noscale_0_54_30</td>\n",
       "      <td>0.721</td>\n",
       "      <td>0.725</td>\n",
       "      <td>14</td>\n",
       "    </tr>\n",
       "    <tr>\n",
       "      <th>0</th>\n",
       "      <td>cor_base</td>\n",
       "      <td>0.722</td>\n",
       "      <td>0.000</td>\n",
       "      <td>14</td>\n",
       "    </tr>\n",
       "    <tr>\n",
       "      <th>0</th>\n",
       "      <td>abms.sim_noscale_0_54_30</td>\n",
       "      <td>0.721</td>\n",
       "      <td>0.725</td>\n",
       "      <td>15</td>\n",
       "    </tr>\n",
       "    <tr>\n",
       "      <th>0</th>\n",
       "      <td>cor_base</td>\n",
       "      <td>0.722</td>\n",
       "      <td>0.000</td>\n",
       "      <td>15</td>\n",
       "    </tr>\n",
       "    <tr>\n",
       "      <th>0</th>\n",
       "      <td>abms.sim_noscale_0_54_30</td>\n",
       "      <td>0.719</td>\n",
       "      <td>0.713</td>\n",
       "      <td>16</td>\n",
       "    </tr>\n",
       "    <tr>\n",
       "      <th>0</th>\n",
       "      <td>cor_base</td>\n",
       "      <td>0.711</td>\n",
       "      <td>0.000</td>\n",
       "      <td>16</td>\n",
       "    </tr>\n",
       "    <tr>\n",
       "      <th>0</th>\n",
       "      <td>abms.sim_noscale_0_54_30</td>\n",
       "      <td>0.726</td>\n",
       "      <td>0.733</td>\n",
       "      <td>17</td>\n",
       "    </tr>\n",
       "    <tr>\n",
       "      <th>0</th>\n",
       "      <td>cor_base</td>\n",
       "      <td>0.723</td>\n",
       "      <td>0.000</td>\n",
       "      <td>17</td>\n",
       "    </tr>\n",
       "    <tr>\n",
       "      <th>0</th>\n",
       "      <td>abms.sim_noscale_0_54_30</td>\n",
       "      <td>0.722</td>\n",
       "      <td>0.729</td>\n",
       "      <td>18</td>\n",
       "    </tr>\n",
       "    <tr>\n",
       "      <th>0</th>\n",
       "      <td>cor_base</td>\n",
       "      <td>0.717</td>\n",
       "      <td>0.000</td>\n",
       "      <td>18</td>\n",
       "    </tr>\n",
       "    <tr>\n",
       "      <th>0</th>\n",
       "      <td>abms.sim_noscale_0_54_30</td>\n",
       "      <td>0.721</td>\n",
       "      <td>0.728</td>\n",
       "      <td>19</td>\n",
       "    </tr>\n",
       "    <tr>\n",
       "      <th>0</th>\n",
       "      <td>cor_base</td>\n",
       "      <td>0.719</td>\n",
       "      <td>0.000</td>\n",
       "      <td>19</td>\n",
       "    </tr>\n",
       "    <tr>\n",
       "      <th>0</th>\n",
       "      <td>abms.sim_noscale_0_54_30</td>\n",
       "      <td>0.725</td>\n",
       "      <td>0.719</td>\n",
       "      <td>20</td>\n",
       "    </tr>\n",
       "    <tr>\n",
       "      <th>0</th>\n",
       "      <td>cor_base</td>\n",
       "      <td>0.719</td>\n",
       "      <td>0.000</td>\n",
       "      <td>20</td>\n",
       "    </tr>\n",
       "    <tr>\n",
       "      <th>0</th>\n",
       "      <td>abms.sim_noscale_0_54_30</td>\n",
       "      <td>0.716</td>\n",
       "      <td>0.735</td>\n",
       "      <td>22</td>\n",
       "    </tr>\n",
       "    <tr>\n",
       "      <th>0</th>\n",
       "      <td>cor_base</td>\n",
       "      <td>0.720</td>\n",
       "      <td>0.000</td>\n",
       "      <td>22</td>\n",
       "    </tr>\n",
       "  </tbody>\n",
       "</table>\n",
       "</div>"
      ],
      "text/plain": [
       "                      model  test_cor  test_umap  seed\n",
       "0  abms.sim_noscale_0_54_30     0.717      0.718    12\n",
       "0                  cor_base     0.715      0.000    12\n",
       "0  abms.sim_noscale_0_54_30     0.713      0.728    13\n",
       "0                  cor_base     0.714      0.000    13\n",
       "0  abms.sim_noscale_0_54_30     0.721      0.725    14\n",
       "0                  cor_base     0.722      0.000    14\n",
       "0  abms.sim_noscale_0_54_30     0.721      0.725    15\n",
       "0                  cor_base     0.722      0.000    15\n",
       "0  abms.sim_noscale_0_54_30     0.719      0.713    16\n",
       "0                  cor_base     0.711      0.000    16\n",
       "0  abms.sim_noscale_0_54_30     0.726      0.733    17\n",
       "0                  cor_base     0.723      0.000    17\n",
       "0  abms.sim_noscale_0_54_30     0.722      0.729    18\n",
       "0                  cor_base     0.717      0.000    18\n",
       "0  abms.sim_noscale_0_54_30     0.721      0.728    19\n",
       "0                  cor_base     0.719      0.000    19\n",
       "0  abms.sim_noscale_0_54_30     0.725      0.719    20\n",
       "0                  cor_base     0.719      0.000    20\n",
       "0  abms.sim_noscale_0_54_30     0.716      0.735    22\n",
       "0                  cor_base     0.720      0.000    22"
      ]
     },
     "execution_count": 349,
     "metadata": {},
     "output_type": "execute_result"
    }
   ],
   "source": [
    "outer_metrics_df"
   ]
  },
  {
   "cell_type": "code",
   "execution_count": null,
   "metadata": {},
   "outputs": [],
   "source": [
    "outer_metrics_df.to_csv(os.getcwd()+\"\\\\data\\\\processed\\\\abms4sim__noscale_metrics.csv\")\n",
    "outer_final_df.to_csv(os.getcwd()+\"\\\\data\\\\processed\\\\abms4sim_noscale_finaldf.csv\")"
   ]
  },
  {
   "cell_type": "code",
   "execution_count": null,
   "metadata": {},
   "outputs": [
    {
     "data": {
      "text/html": [
       "<div>\n",
       "<style scoped>\n",
       "    .dataframe tbody tr th:only-of-type {\n",
       "        vertical-align: middle;\n",
       "    }\n",
       "\n",
       "    .dataframe tbody tr th {\n",
       "        vertical-align: top;\n",
       "    }\n",
       "\n",
       "    .dataframe thead th {\n",
       "        text-align: right;\n",
       "    }\n",
       "</style>\n",
       "<table border=\"1\" class=\"dataframe\">\n",
       "  <thead>\n",
       "    <tr style=\"text-align: right;\">\n",
       "      <th></th>\n",
       "      <th>Unnamed: 0</th>\n",
       "      <th>model_id</th>\n",
       "      <th>bits</th>\n",
       "      <th>avg_total_loss</th>\n",
       "      <th>avg_kl_loss</th>\n",
       "      <th>avg_rl_loss</th>\n",
       "      <th>hidden_dim</th>\n",
       "      <th>latent_dim</th>\n",
       "      <th>seed</th>\n",
       "    </tr>\n",
       "  </thead>\n",
       "  <tbody>\n",
       "    <tr>\n",
       "      <th>0</th>\n",
       "      <td>0</td>\n",
       "      <td>abms_iter_0_54_30_ep79_norm0_bits4_bs128_lr0.001</td>\n",
       "      <td>4</td>\n",
       "      <td>82.134689</td>\n",
       "      <td>83.179327</td>\n",
       "      <td>-1.044638</td>\n",
       "      <td>54</td>\n",
       "      <td>30</td>\n",
       "      <td>12</td>\n",
       "    </tr>\n",
       "    <tr>\n",
       "      <th>1</th>\n",
       "      <td>0</td>\n",
       "      <td>abms_iter_1_54_25_ep71_norm0_bits4_bs128_lr0.001</td>\n",
       "      <td>4</td>\n",
       "      <td>68.278259</td>\n",
       "      <td>69.315375</td>\n",
       "      <td>-1.037116</td>\n",
       "      <td>54</td>\n",
       "      <td>25</td>\n",
       "      <td>12</td>\n",
       "    </tr>\n",
       "    <tr>\n",
       "      <th>2</th>\n",
       "      <td>0</td>\n",
       "      <td>abms_iter_2_54_20_ep86_norm0_bits4_bs128_lr0.001</td>\n",
       "      <td>4</td>\n",
       "      <td>54.425391</td>\n",
       "      <td>55.452838</td>\n",
       "      <td>-1.027448</td>\n",
       "      <td>54</td>\n",
       "      <td>20</td>\n",
       "      <td>12</td>\n",
       "    </tr>\n",
       "    <tr>\n",
       "      <th>3</th>\n",
       "      <td>0</td>\n",
       "      <td>abms_iter_3_54_15_ep89_norm0_bits4_bs128_lr0.001</td>\n",
       "      <td>4</td>\n",
       "      <td>40.663236</td>\n",
       "      <td>41.589298</td>\n",
       "      <td>-0.926061</td>\n",
       "      <td>54</td>\n",
       "      <td>15</td>\n",
       "      <td>12</td>\n",
       "    </tr>\n",
       "    <tr>\n",
       "      <th>4</th>\n",
       "      <td>0</td>\n",
       "      <td>abms_iter_4_50_30_ep103_norm0_bits4_bs128_lr0.001</td>\n",
       "      <td>4</td>\n",
       "      <td>82.151190</td>\n",
       "      <td>83.178384</td>\n",
       "      <td>-1.027193</td>\n",
       "      <td>50</td>\n",
       "      <td>30</td>\n",
       "      <td>12</td>\n",
       "    </tr>\n",
       "    <tr>\n",
       "      <th>...</th>\n",
       "      <td>...</td>\n",
       "      <td>...</td>\n",
       "      <td>...</td>\n",
       "      <td>...</td>\n",
       "      <td>...</td>\n",
       "      <td>...</td>\n",
       "      <td>...</td>\n",
       "      <td>...</td>\n",
       "      <td>...</td>\n",
       "    </tr>\n",
       "    <tr>\n",
       "      <th>165</th>\n",
       "      <td>0</td>\n",
       "      <td>abms_iter_12_40_25_ep73_norm0_bits4_bs128_lr0.001</td>\n",
       "      <td>4</td>\n",
       "      <td>68.384246</td>\n",
       "      <td>69.315377</td>\n",
       "      <td>-0.931131</td>\n",
       "      <td>40</td>\n",
       "      <td>25</td>\n",
       "      <td>22</td>\n",
       "    </tr>\n",
       "    <tr>\n",
       "      <th>166</th>\n",
       "      <td>0</td>\n",
       "      <td>abms_iter_13_40_20_ep90_norm0_bits4_bs128_lr0.001</td>\n",
       "      <td>4</td>\n",
       "      <td>54.552166</td>\n",
       "      <td>55.452319</td>\n",
       "      <td>-0.900153</td>\n",
       "      <td>40</td>\n",
       "      <td>20</td>\n",
       "      <td>22</td>\n",
       "    </tr>\n",
       "    <tr>\n",
       "      <th>167</th>\n",
       "      <td>0</td>\n",
       "      <td>abms_iter_14_40_15_ep59_norm0_bits4_bs128_lr0.001</td>\n",
       "      <td>4</td>\n",
       "      <td>40.766201</td>\n",
       "      <td>41.589211</td>\n",
       "      <td>-0.823011</td>\n",
       "      <td>40</td>\n",
       "      <td>15</td>\n",
       "      <td>22</td>\n",
       "    </tr>\n",
       "    <tr>\n",
       "      <th>168</th>\n",
       "      <td>0</td>\n",
       "      <td>abms_iter_15_30_20_ep74_norm0_bits4_bs128_lr0.001</td>\n",
       "      <td>4</td>\n",
       "      <td>54.645410</td>\n",
       "      <td>55.452005</td>\n",
       "      <td>-0.806596</td>\n",
       "      <td>30</td>\n",
       "      <td>20</td>\n",
       "      <td>22</td>\n",
       "    </tr>\n",
       "    <tr>\n",
       "      <th>169</th>\n",
       "      <td>0</td>\n",
       "      <td>abms_iter_16_30_15_ep72_norm0_bits4_bs128_lr0.001</td>\n",
       "      <td>4</td>\n",
       "      <td>40.847753</td>\n",
       "      <td>41.589472</td>\n",
       "      <td>-0.741720</td>\n",
       "      <td>30</td>\n",
       "      <td>15</td>\n",
       "      <td>22</td>\n",
       "    </tr>\n",
       "  </tbody>\n",
       "</table>\n",
       "<p>170 rows × 9 columns</p>\n",
       "</div>"
      ],
      "text/plain": [
       "     Unnamed: 0                                           model_id  bits  \\\n",
       "0             0   abms_iter_0_54_30_ep79_norm0_bits4_bs128_lr0.001     4   \n",
       "1             0   abms_iter_1_54_25_ep71_norm0_bits4_bs128_lr0.001     4   \n",
       "2             0   abms_iter_2_54_20_ep86_norm0_bits4_bs128_lr0.001     4   \n",
       "3             0   abms_iter_3_54_15_ep89_norm0_bits4_bs128_lr0.001     4   \n",
       "4             0  abms_iter_4_50_30_ep103_norm0_bits4_bs128_lr0.001     4   \n",
       "..          ...                                                ...   ...   \n",
       "165           0  abms_iter_12_40_25_ep73_norm0_bits4_bs128_lr0.001     4   \n",
       "166           0  abms_iter_13_40_20_ep90_norm0_bits4_bs128_lr0.001     4   \n",
       "167           0  abms_iter_14_40_15_ep59_norm0_bits4_bs128_lr0.001     4   \n",
       "168           0  abms_iter_15_30_20_ep74_norm0_bits4_bs128_lr0.001     4   \n",
       "169           0  abms_iter_16_30_15_ep72_norm0_bits4_bs128_lr0.001     4   \n",
       "\n",
       "     avg_total_loss  avg_kl_loss  avg_rl_loss  hidden_dim  latent_dim  seed  \n",
       "0         82.134689    83.179327    -1.044638          54          30    12  \n",
       "1         68.278259    69.315375    -1.037116          54          25    12  \n",
       "2         54.425391    55.452838    -1.027448          54          20    12  \n",
       "3         40.663236    41.589298    -0.926061          54          15    12  \n",
       "4         82.151190    83.178384    -1.027193          50          30    12  \n",
       "..              ...          ...          ...         ...         ...   ...  \n",
       "165       68.384246    69.315377    -0.931131          40          25    22  \n",
       "166       54.552166    55.452319    -0.900153          40          20    22  \n",
       "167       40.766201    41.589211    -0.823011          40          15    22  \n",
       "168       54.645410    55.452005    -0.806596          30          20    22  \n",
       "169       40.847753    41.589472    -0.741720          30          15    22  \n",
       "\n",
       "[170 rows x 9 columns]"
      ]
     },
     "execution_count": 28,
     "metadata": {},
     "output_type": "execute_result"
    }
   ],
   "source": [
    "pd.read_csv(os.getcwd()+\"\\\\data\\\\processed\\\\abms_iter_minmax_finaldf.csv\")"
   ]
  },
  {
   "cell_type": "code",
   "execution_count": null,
   "metadata": {},
   "outputs": [],
   "source": []
  },
  {
   "cell_type": "code",
   "execution_count": null,
   "metadata": {},
   "outputs": [],
   "source": []
  },
  {
   "cell_type": "markdown",
   "metadata": {},
   "source": [
    "### Checkpoint"
   ]
  },
  {
   "cell_type": "markdown",
   "metadata": {},
   "source": [
    "##  Data Preparation and split for VAE (Subcell Proteomics)\n",
    "- We will perform **min-max or zscore scaling** to the TMT-Ratios of the proteomic SCBC data. <br>\n",
    "- We will scale the array version of our scbc data, the `npdata` matrix. The output is the `npdata_scaled`.\n",
    "- Then we will copy this scaled matrix and reshuffle the copy. The `npscbc_scaled_shuffled` will be used for the model training and performance evaluattion. <br>\n",
    "- The `npdata_scaled` matrix with the original order of rows will be used later for the validation and extraction of the latent variables. <br> "
   ]
  },
  {
   "cell_type": "code",
   "execution_count": 19,
   "metadata": {},
   "outputs": [
    {
     "name": "stderr",
     "output_type": "stream",
     "text": [
      "C:\\Users\\gpano\\AppData\\Local\\Temp\\ipykernel_3524\\500142395.py:21: DtypeWarning: Columns (9,10,11,12,13,14,15,16,17,18,19,20,21,22,23,24,25,26,27,28,29,30,31,32,33,34,35) have mixed types. Specify dtype option on import or set low_memory=False.\n",
      "  meta_data = pd.read_csv(os.getcwd() + \"\\\\data\\\\raw\\\\SCBC2_summarized_proteoforms_sig_annotated_groups_vertical.txt\",delimiter=\"\\t\")\n"
     ]
    }
   ],
   "source": [
    "# create path and read the scbc data\n",
    "data_path = os.getcwd() + \"\\\\data\\\\processed\\\\\" \n",
    "\n",
    "# SCBC Pan-Can Data - protein (gene centric) tables\n",
    "# data = pd.read_csv(data_path+\"protein_quant_merged.txt\",delimiter=\"\\t\")\n",
    "\n",
    "# convert to numpy\n",
    "# npdata = data.to_numpy()\n",
    "\n",
    "\n",
    "\n",
    "                        ## GROUND TRUTH PAIRS FROM CORM & COMPLEAT ## \n",
    "# load groudtruth pairs \n",
    "pairs_df = pd.read_csv(os.getcwd() + \"\\\\data\\\\processed\\\\\" + \"merged_pairs.txt\", delimiter=\"\\t\")\n",
    "\n",
    "\n",
    "\n",
    "                        ## FOR PROTEOFORM ANALYSIS HERE ## \n",
    "# SCBC Pan-Can proteoform dataset (SCBC proteoform tables)\n",
    "data = pd.read_csv(os.getcwd() + \"\\\\data\\\\raw\\\\SCBC2_proteoform_table 2.txt\",delimiter=\"\\t\")\n",
    "meta_data = pd.read_csv(os.getcwd() + \"\\\\data\\\\raw\\\\SCBC2_summarized_proteoforms_sig_annotated_groups_vertical.txt\",delimiter=\"\\t\")\n",
    "\n",
    "\n",
    "\n",
    "# ensemble ID to gene symbol mapping for SCBC proteoform table \n",
    "map_df = pd.read_csv(os.getcwd() + \"\\\\data\\\\raw\\\\SCBC2_gene_id_to_symbol.txt\",delimiter=\"\\t\")\n",
    "# one to one map of ensemble IDs to gene symbols\n",
    "mapping = dict(zip(map_df[\"gene_id\"], map_df[\"gene_name\"]))\n",
    "\n",
    "\n",
    "\n",
    "\n",
    "\n",
    "table_is_proteoform = True  # CHANGE IT TO TRUE IF YOU RUN A PROTEOFORM TABLE"
   ]
  },
  {
   "cell_type": "markdown",
   "metadata": {},
   "source": [
    "###  Evaluate NAs and unique entries from the Dataset\n",
    "- For missing values I wll keep rows with > 50% non-missing Values. The VAE can tolerate this much. \n",
    "- The part for the unique entries is mostly for the proteoform tables. \n",
    "- There are dominant proteoforms named with the prefix \"sims\" in the tables. These sim proteoforms should match to unique gene symbols in the meta data table. Basicaly it is the dominant form of its respective protein. The meta-table contains the dominant forms, who also a have an alternative proteoform. For Subcellular data, of all the 15058 dominants, 7394 have at least one alternative proteoform. "
   ]
  },
  {
   "cell_type": "code",
   "execution_count": 21,
   "metadata": {},
   "outputs": [
    {
     "name": "stdout",
     "output_type": "stream",
     "text": [
      "Missing data before clean up: 1296508 in total\n",
      "Unique entries (rows): 27073\n",
      "Dominants proteofroms: 15058\n",
      "Alternative proteofroms: 12015\n"
     ]
    },
    {
     "data": {
      "image/png": "[encoded data removed]",
      "text/plain": [
       "<Figure size 1000x500 with 1 Axes>"
      ]
     },
     "metadata": {},
     "output_type": "display_data"
    }
   ],
   "source": [
    "# fix missing data \n",
    "\n",
    "print(f\"Missing data before clean up: {data.isna().sum().sum()} in total\")\n",
    "print(f\"Unique entries (rows): {data.shape[0]}\")\n",
    "if table_is_proteoform:\n",
    "    print(f\"Dominants proteofroms: {data.index.str.contains(\"sim\").sum()}\")\n",
    "    print(f\"Alternative proteofroms: {(~data.index.str.contains(\"sim\")).sum()}\")\n",
    "\n",
    "fig, ax = plt.subplots(1,1,figsize=(10,5))\n",
    "pd.DataFrame(data.isna().sum(axis=1), columns=[\"values\"], index=data.index).pipe(sns.histplot, x = \"values\", ax=ax, color=\"firebrick\", alpha=0.5)\n",
    "plt.show()\n",
    "plt.close()"
   ]
  },
  {
   "cell_type": "code",
   "execution_count": 22,
   "metadata": {},
   "outputs": [
    {
     "name": "stdout",
     "output_type": "stream",
     "text": [
      "Missing data after clean up: 102937 in total\n",
      "Unique entries (rows): 12622\n",
      "Dominants proteofroms: 8255\n",
      "Alterntive proteofroms: 4367\n"
     ]
    },
    {
     "data": {
      "image/png": "[encoded data removed]",
      "text/plain": [
       "<Figure size 1000x500 with 1 Axes>"
      ]
     },
     "metadata": {},
     "output_type": "display_data"
    }
   ],
   "source": [
    "data = data.loc[np.isnan(data).sum(axis=1) < data.shape[1]*0.3]\n",
    "print(f\"Missing data after clean up: {data.isna().sum().sum()} in total\")\n",
    "print(f\"Unique entries (rows): {data.shape[0]}\")\n",
    "if table_is_proteoform:\n",
    "    print(f\"Dominants proteofroms: {data.index.str.contains(\"sim\").sum()}\")\n",
    "    print(f\"Alterntive proteofroms: {(~data.index.str.contains(\"sim\")).sum()}\")\n",
    "fig, ax = plt.subplots(1,1,figsize=(10,5))\n",
    "pd.DataFrame(data.isna().sum(axis=1), columns=[\"values\"], index=data.index).pipe(sns.histplot, x = \"values\", ax=ax, color=\"firebrick\", alpha=0.5)\n",
    "plt.show()\n"
   ]
  },
  {
   "cell_type": "code",
   "execution_count": 23,
   "metadata": {},
   "outputs": [
    {
     "name": "stdout",
     "output_type": "stream",
     "text": [
      "Unique dominant proteoforms with gene symbol match\n",
      "peptide               898972\n",
      "ioi                     7934\n",
      "membership                 1\n",
      "id                      7934\n",
      "q_value_proteoform         0\n",
      "fc_proteoform              0\n",
      "q_value_protein         1199\n",
      "fc_protein              7934\n",
      "gene_symbol             7860\n",
      "isoforms                 484\n",
      "act-site                   0\n",
      "binding                    0\n",
      "carbohyd                   0\n",
      "coiled                     0\n",
      "crosslnk                   0\n",
      "disulfide                  0\n",
      "DNA-bind                   0\n",
      "domain                     0\n",
      "helix                      0\n",
      "init_meth                  0\n",
      "intramem                   0\n",
      "lipid                      0\n",
      "mod-res                    0\n",
      "motif                      0\n",
      "mutagen                    0\n",
      "propep                     0\n",
      "region                     0\n",
      "repeat                     0\n",
      "signal                     0\n",
      "site                       0\n",
      "strand                     0\n",
      "topo-dom                   0\n",
      "transit                    0\n",
      "transmem                   0\n",
      "turn                       0\n",
      "Zn-fing                    0\n",
      "q_logical                  2\n",
      "n_peptides_logical         2\n",
      "uniprot_logical            2\n",
      "level                      5\n",
      "dtype: int64\n"
     ]
    }
   ],
   "source": [
    "if table_is_proteoform:\n",
    "    print(f\"Unique dominant proteoforms with gene symbol match\")\n",
    "    mask2 = meta_data[\"membership\"] == \"sim\"\n",
    "    mask = meta_data[\"id\"].str.contains(\"sim\")\n",
    "    print(meta_data.loc[meta_data[\"membership\"] == \"sim\"].nunique())\n",
    "else:\n",
    "    print(\"This part is ommited for gene centric analysis\")"
   ]
  },
  {
   "cell_type": "code",
   "execution_count": 24,
   "metadata": {},
   "outputs": [
    {
     "name": "stdout",
     "output_type": "stream",
     "text": [
      "Unique dominant proteoforms with a gene-symbol match within the ground truth databases: 2715\n"
     ]
    }
   ],
   "source": [
    "if table_is_proteoform:\n",
    "    # here we keep only the dominant proteoform and substitute the index with gene symbols\n",
    "    \n",
    "    data_sim = data.loc[data.index.str.contains(\"sim\")]\n",
    "\n",
    "    # slice the P_sim and keep only the ensemble ID in the index\n",
    "    data_sim.index = data_sim.index.str.extract(r\"(ENSG\\d+)\")[0]\n",
    "\n",
    "    # remove indec column name\n",
    "    data_sim.index.name = None\n",
    "\n",
    "    # final step substitute index names with gene symbols using the map df\n",
    "    data_sim.index = data_sim.index.map(mapping)\n",
    "\n",
    "    # drop NAs in index\n",
    "    data_sim = data_sim.loc[~data_sim.index.isna()]\n",
    "\n",
    "    # remove entries with more than 2 gene symbols for now\n",
    "    mask = data_sim.index.str.match(r'^\\w+$')\n",
    "    data_sim = data_sim[mask]\n",
    "    \n",
    "    # how many of these dominants are also in the ground truth dataframe \n",
    "    proteins_in_pairs = set(pairs_df.iloc[:, 0]).union(set(pairs_df.iloc[:, 1]))\n",
    "    datasim_sub = data_sim.loc[data_sim.index.intersection(proteins_in_pairs)].index.nunique()\n",
    "    print(f\"Unique dominant proteoforms with a gene-symbol match within the ground truth databases: {datasim_sub}\")\n",
    "\n",
    "    # finally we substitute the data with the data_sim, to proceed with the analysis\n",
    "    data = data_sim.copy()\n",
    "    npdata = data.to_numpy()\n",
    "\n",
    "    # save the data_sim for later use\n",
    "    data_sim.to_csv(os.getcwd() + \"\\\\data\\\\features\\\\scbc_quant_sims.csv\", index=True, header=True)\n",
    "    \n",
    "else:\n",
    "    print(\"This part is ommited during gene centric analysis\")"
   ]
  },
  {
   "cell_type": "markdown",
   "metadata": {},
   "source": [
    "### Data Transformation\n",
    "- again, if applicable "
   ]
  },
  {
   "cell_type": "code",
   "execution_count": 428,
   "metadata": {},
   "outputs": [
    {
     "data": {
      "text/html": [
       "<div>\n",
       "<style scoped>\n",
       "    .dataframe tbody tr th:only-of-type {\n",
       "        vertical-align: middle;\n",
       "    }\n",
       "\n",
       "    .dataframe tbody tr th {\n",
       "        vertical-align: top;\n",
       "    }\n",
       "\n",
       "    .dataframe thead th {\n",
       "        text-align: right;\n",
       "    }\n",
       "</style>\n",
       "<table border=\"1\" class=\"dataframe\">\n",
       "  <thead>\n",
       "    <tr style=\"text-align: right;\">\n",
       "      <th></th>\n",
       "      <th>FS1.A_A375</th>\n",
       "      <th>FS1.B_A375</th>\n",
       "      <th>FS2.A_A375</th>\n",
       "      <th>FS2.B_A375</th>\n",
       "      <th>FP1.A_A375</th>\n",
       "      <th>FP1.B_A375</th>\n",
       "      <th>FP2.A_A375</th>\n",
       "      <th>FP2.B_A375</th>\n",
       "      <th>FP3.A_A375</th>\n",
       "      <th>FP3.B_A375</th>\n",
       "      <th>...</th>\n",
       "      <th>FS1.A_U2OS</th>\n",
       "      <th>FS1.B_U2OS</th>\n",
       "      <th>FS2.A_U2OS</th>\n",
       "      <th>FS2.B_U2OS</th>\n",
       "      <th>FP1.A_U2OS</th>\n",
       "      <th>FP1.B_U2OS</th>\n",
       "      <th>FP2.A_U2OS</th>\n",
       "      <th>FP2.B_U2OS</th>\n",
       "      <th>FP3.A_U2OS</th>\n",
       "      <th>FP3.B_U2OS</th>\n",
       "    </tr>\n",
       "  </thead>\n",
       "  <tbody>\n",
       "    <tr>\n",
       "      <th>TSPAN6</th>\n",
       "      <td>-0.584606</td>\n",
       "      <td>-0.870604</td>\n",
       "      <td>-0.934516</td>\n",
       "      <td>-0.792672</td>\n",
       "      <td>0.441556</td>\n",
       "      <td>-0.135185</td>\n",
       "      <td>0.781125</td>\n",
       "      <td>0.964383</td>\n",
       "      <td>1.143355</td>\n",
       "      <td>1.229895</td>\n",
       "      <td>...</td>\n",
       "      <td>-1.119694</td>\n",
       "      <td>-1.048714</td>\n",
       "      <td>-0.937936</td>\n",
       "      <td>-0.852804</td>\n",
       "      <td>0.619363</td>\n",
       "      <td>0.532614</td>\n",
       "      <td>0.969966</td>\n",
       "      <td>1.054591</td>\n",
       "      <td>1.066931</td>\n",
       "      <td>1.093787</td>\n",
       "    </tr>\n",
       "    <tr>\n",
       "      <th>DPM1</th>\n",
       "      <td>-0.954147</td>\n",
       "      <td>-0.745517</td>\n",
       "      <td>-0.931724</td>\n",
       "      <td>-1.022787</td>\n",
       "      <td>0.537996</td>\n",
       "      <td>0.486280</td>\n",
       "      <td>0.946493</td>\n",
       "      <td>1.053681</td>\n",
       "      <td>0.718645</td>\n",
       "      <td>0.799750</td>\n",
       "      <td>...</td>\n",
       "      <td>-0.762266</td>\n",
       "      <td>-0.739394</td>\n",
       "      <td>-0.859660</td>\n",
       "      <td>-0.751788</td>\n",
       "      <td>0.661484</td>\n",
       "      <td>0.443144</td>\n",
       "      <td>0.619505</td>\n",
       "      <td>0.683142</td>\n",
       "      <td>0.831424</td>\n",
       "      <td>0.924285</td>\n",
       "    </tr>\n",
       "  </tbody>\n",
       "</table>\n",
       "<p>2 rows × 130 columns</p>\n",
       "</div>"
      ],
      "text/plain": [
       "        FS1.A_A375  FS1.B_A375  FS2.A_A375  FS2.B_A375  FP1.A_A375  \\\n",
       "TSPAN6   -0.584606   -0.870604   -0.934516   -0.792672    0.441556   \n",
       "DPM1     -0.954147   -0.745517   -0.931724   -1.022787    0.537996   \n",
       "\n",
       "        FP1.B_A375  FP2.A_A375  FP2.B_A375  FP3.A_A375  FP3.B_A375  ...  \\\n",
       "TSPAN6   -0.135185    0.781125    0.964383    1.143355    1.229895  ...   \n",
       "DPM1      0.486280    0.946493    1.053681    0.718645    0.799750  ...   \n",
       "\n",
       "        FS1.A_U2OS  FS1.B_U2OS  FS2.A_U2OS  FS2.B_U2OS  FP1.A_U2OS  \\\n",
       "TSPAN6   -1.119694   -1.048714   -0.937936   -0.852804    0.619363   \n",
       "DPM1     -0.762266   -0.739394   -0.859660   -0.751788    0.661484   \n",
       "\n",
       "        FP1.B_U2OS  FP2.A_U2OS  FP2.B_U2OS  FP3.A_U2OS  FP3.B_U2OS  \n",
       "TSPAN6    0.532614    0.969966    1.054591    1.066931    1.093787  \n",
       "DPM1      0.443144    0.619505    0.683142    0.831424    0.924285  \n",
       "\n",
       "[2 rows x 130 columns]"
      ]
     },
     "execution_count": 428,
     "metadata": {},
     "output_type": "execute_result"
    }
   ],
   "source": [
    "data.head(2)"
   ]
  },
  {
   "cell_type": "code",
   "execution_count": 25,
   "metadata": {},
   "outputs": [
    {
     "name": "stdout",
     "output_type": "stream",
     "text": [
      "(8208, 1) (8208, 1) 0 0\n"
     ]
    }
   ],
   "source": [
    "# Get extreme values (non-missing) from each row. (for min-max)\n",
    "data_min = np.nanmin(npdata, axis=1, keepdims=True)  # minimum among non-NaN\n",
    "data_max = np.nanmax(npdata, axis=1,keepdims=True)  # maximum among non-NaN\n",
    "\n",
    "# check that that shapes and values are as expected \n",
    "print(data_max.shape,data_min.shape,np.isnan(data_max).sum(), np.isnan(data_min).sum())"
   ]
  },
  {
   "cell_type": "code",
   "execution_count": 26,
   "metadata": {},
   "outputs": [],
   "source": [
    "# # scale data min-max normalization\n",
    "# npdata_scaled = (npdata - data_min) /(data_max - data_min + 1e-8)\n",
    "# npdata_scaled.shape\n",
    "\n",
    "# # scale data z-score normalization\n",
    "# npdata_scaled = StandardScaler().fit_transform(npdata.T).T\n",
    "# npdata_scaled.shape\n",
    "\n",
    "# no scale\n",
    "npdata_scaled = npdata.copy()"
   ]
  },
  {
   "cell_type": "code",
   "execution_count": 27,
   "metadata": {},
   "outputs": [],
   "source": [
    "# shuffle the rows but keep scaled original - we need the original to extract the latent variables \n",
    "npdata_scaled_shuffled = npdata_scaled.copy()\n",
    "np.random.shuffle(npdata_scaled_shuffled)\n",
    "\n",
    "# npscbc_scaled[1,],scbc.iloc[1,:12]"
   ]
  },
  {
   "cell_type": "code",
   "execution_count": 28,
   "metadata": {},
   "outputs": [
    {
     "data": {
      "image/png": "[encoded data removed]",
      "text/plain": [
       "<Figure size 1000x500 with 2 Axes>"
      ]
     },
     "metadata": {},
     "output_type": "display_data"
    }
   ],
   "source": [
    "# distribution of all the proteome signals - sanity check for data transformation \n",
    "fig, ax = plt.subplots(1,1,figsize=(10,5))\n",
    "pd.DataFrame(npdata_scaled, columns=data.columns).melt().pipe((sns.histplot, \"data\"), x=\"value\", binwidth=.0125, ax=ax, color=\"darkblue\", alpha=.6)\n",
    "ax2 = ax.twinx()\n",
    "sns.kdeplot(pd.DataFrame(npdata_scaled, columns=data.columns).melt(),x = \"value\", ax=ax2, color=\"black\", ls = \"--\")\n",
    "# ax.set_xlim(-4,5)\n",
    "ax.set_title(\"Distribution of (scaled) Signals for all the proteins\")\n",
    "plt.show()"
   ]
  },
  {
   "cell_type": "markdown",
   "metadata": {},
   "source": [
    "\n",
    "### Split Data "
   ]
  },
  {
   "cell_type": "code",
   "execution_count": 29,
   "metadata": {},
   "outputs": [
    {
     "data": {
      "text/plain": [
       "((6155, 130), (821, 130), (1232, 130))"
      ]
     },
     "execution_count": 29,
     "metadata": {},
     "output_type": "execute_result"
    }
   ],
   "source": [
    "train_data, val_data, test_data = uf.create_data_partition(\n",
    "    npdata_scaled_shuffled, test_perc=0.15, val=True, val_perc=0.1\n",
    ")\n",
    "train_data.shape, val_data.shape, test_data.shape"
   ]
  },
  {
   "cell_type": "markdown",
   "metadata": {},
   "source": [
    "You can test reproducibility by re-runing the function and checking the data in the first index of the matrix. We expect it to be the same. "
   ]
  },
  {
   "cell_type": "markdown",
   "metadata": {},
   "source": [
    "### Pass data to Custom Dataset and DataLoaders \n",
    "- check that your data is numpy matrix.\n",
    "- check if data is scaled to (0,1).\n",
    "- create three custom dataset instances.\n",
    "- the custom dataset will save all the data to memory and create a mask where NaNs are located.\n",
    "- the numpy arrays will be converted to tensors of appropriate dimensions and NaNs to zeroes.\n",
    "- then we pass the custom dataset to the dataloader object.\n",
    "- The DataLoader object contains for each row (training example) i) a tensor of 1 x 130 columns with 0-1 scaled values, ii) a 1x130 mask indicating NA positions and iii) index of the examples per batch (could be 64, 128,..., batch_size). "
   ]
  },
  {
   "cell_type": "code",
   "execution_count": 30,
   "metadata": {},
   "outputs": [
    {
     "name": "stdout",
     "output_type": "stream",
     "text": [
      "Protein Dataset is passed to memory\n",
      "No Protein Symbols were identified\n",
      "Protein Dataset is passed to memory\n",
      "No Protein Symbols were identified\n",
      "Protein Dataset is passed to memory\n",
      "No Protein Symbols were identified\n",
      "Protein Dataset is passed to memory\n",
      "No Protein Symbols were identified\n"
     ]
    }
   ],
   "source": [
    "train_dataset = cd.ProteinDataset(train_data)\n",
    "val_dataset = cd.ProteinDataset(val_data)\n",
    "test_dataset = cd.ProteinDataset(test_data)\n",
    "\n",
    "# pass the whole dataset not shuffled  \n",
    "whole_dataset = cd.ProteinDataset(npdata_scaled)"
   ]
  },
  {
   "cell_type": "code",
   "execution_count": 31,
   "metadata": {},
   "outputs": [],
   "source": [
    "# pass data to the dataLoader\n",
    "train_loader = DataLoader(train_dataset, batch_size=128, shuffle=True)\n",
    "val_loader = DataLoader(val_dataset, batch_size=128, shuffle=False)\n",
    "test_loader = DataLoader(test_dataset, batch_size=128, shuffle=False,drop_last=True)\n",
    "whole_loader = DataLoader(whole_dataset, batch_size=128, shuffle=False, drop_last=False)"
   ]
  },
  {
   "cell_type": "markdown",
   "metadata": {},
   "source": [
    "## VAE (SCBC) dimensions optimization Loop with secondary task \n"
   ]
  },
  {
   "cell_type": "code",
   "execution_count": 32,
   "metadata": {},
   "outputs": [],
   "source": [
    "# set the combinations of the VAE layers to check. \n",
    "comb_list = list()\n",
    "for comb in list(itertools.product([90,75,65,50,35],[45,32,25,20,15,10])):\n",
    "    if comb[0] >= 1.5*comb[1]:\n",
    "        comb_list.append(comb)"
   ]
  },
  {
   "cell_type": "code",
   "execution_count": 33,
   "metadata": {},
   "outputs": [],
   "source": [
    "# over write if want to check one particular dimension combination \n",
    "comb_list = [(90,45)]"
   ]
  },
  {
   "cell_type": "code",
   "execution_count": 34,
   "metadata": {},
   "outputs": [
    {
     "name": "stdout",
     "output_type": "stream",
     "text": [
      "\n",
      "\n",
      "Testing model: 0, with dims 90 and 45, in seed 22\n",
      "------------------------------------------------------------------------------------------\n",
      "Directory already exists: c:\\Users\\gpano\\Desktop\\github_py\\proteomics_latent_space\\models\n",
      "model path c:\\Users\\gpano\\Desktop\\github_py\\proteomics_latent_space\\models\\scbc2sim04_nocale_0_90_45\n"
     ]
    },
    {
     "data": {
      "application/vnd.jupyter.widget-view+json": {
       "model_id": "b56ab720308a4e0b8bebc703f8a81b5b",
       "version_major": 2,
       "version_minor": 0
      },
      "text/plain": [
       "  0%|          | 0/201 [00:00<?, ?it/s]"
      ]
     },
     "metadata": {},
     "output_type": "display_data"
    },
    {
     "name": "stdout",
     "output_type": "stream",
     "text": [
      "Performing pre-training evaluation on the model in epoch 0\n",
      "\n",
      "Val loss: 63.705| Val KL: 62.383248465401785 | Val Rec: 1.321\n",
      "\n",
      "Patience exceeded at 61 with last checkpoint saved at 53\n",
      "changed learning rate to 0.001\n",
      "Early stopping at epoch 103 with last checkpoint saved at 92\n",
      "Model saved at: c:\\Users\\gpano\\Desktop\\github_py\\proteomics_latent_space\\models\\scbc2sim04_nocale_0_90_45\n",
      "Model: scbc2sim04_nocale_0_90_45_ep92_norm0_bits2_bs128_lr0.001 has been trained\n",
      "Using this model scbc2sim04_nocale_0_90_45_ep92_norm0_bits2_bs128_lr0.001\n",
      "The decoder output is transformed with an activation function, so reoconstructions are scaled.\n"
     ]
    },
    {
     "name": "stderr",
     "output_type": "stream",
     "text": [
      "c:\\Users\\gpano\\anaconda3\\envs\\scbc\\Lib\\site-packages\\sklearn\\utils\\deprecation.py:151: FutureWarning: 'force_all_finite' was renamed to 'ensure_all_finite' in 1.6 and will be removed in 1.8.\n",
      "  warnings.warn(\n",
      "c:\\Users\\gpano\\anaconda3\\envs\\scbc\\Lib\\site-packages\\umap\\umap_.py:1952: UserWarning: n_jobs value 1 overridden to 1 by setting random_state. Use no seed for parallelism.\n",
      "  warn(\n"
     ]
    },
    {
     "name": "stdout",
     "output_type": "stream",
     "text": [
      "scbc2sim04_nocale_0_90_45\n",
      "cor_base\n",
      "\n",
      "\n",
      "Testing model: 0, with dims 90 and 45, in seed 23\n",
      "------------------------------------------------------------------------------------------\n",
      "Directory already exists: c:\\Users\\gpano\\Desktop\\github_py\\proteomics_latent_space\\models\n",
      "model path c:\\Users\\gpano\\Desktop\\github_py\\proteomics_latent_space\\models\\scbc2sim04_nocale_0_90_45\n"
     ]
    },
    {
     "data": {
      "application/vnd.jupyter.widget-view+json": {
       "model_id": "3aeca004aab044bc8cd9037fe14d308c",
       "version_major": 2,
       "version_minor": 0
      },
      "text/plain": [
       "  0%|          | 0/201 [00:00<?, ?it/s]"
      ]
     },
     "metadata": {},
     "output_type": "display_data"
    },
    {
     "name": "stdout",
     "output_type": "stream",
     "text": [
      "Performing pre-training evaluation on the model in epoch 0\n",
      "\n",
      "Val loss: 63.713| Val KL: 62.383248465401785 | Val Rec: 1.330\n",
      "\n",
      "Patience exceeded at 81 with last checkpoint saved at 73\n",
      "changed learning rate to 0.001\n",
      "Early stopping at epoch 117 with last checkpoint saved at 106\n",
      "Model saved at: c:\\Users\\gpano\\Desktop\\github_py\\proteomics_latent_space\\models\\scbc2sim04_nocale_0_90_45\n",
      "Model: scbc2sim04_nocale_0_90_45_ep106_norm0_bits2_bs128_lr0.001 has been trained\n",
      "Using this model scbc2sim04_nocale_0_90_45_ep106_norm0_bits2_bs128_lr0.001\n",
      "The decoder output is transformed with an activation function, so reoconstructions are scaled.\n"
     ]
    },
    {
     "name": "stderr",
     "output_type": "stream",
     "text": [
      "c:\\Users\\gpano\\anaconda3\\envs\\scbc\\Lib\\site-packages\\sklearn\\utils\\deprecation.py:151: FutureWarning: 'force_all_finite' was renamed to 'ensure_all_finite' in 1.6 and will be removed in 1.8.\n",
      "  warnings.warn(\n",
      "c:\\Users\\gpano\\anaconda3\\envs\\scbc\\Lib\\site-packages\\umap\\umap_.py:1952: UserWarning: n_jobs value 1 overridden to 1 by setting random_state. Use no seed for parallelism.\n",
      "  warn(\n"
     ]
    },
    {
     "name": "stdout",
     "output_type": "stream",
     "text": [
      "scbc2sim04_nocale_0_90_45\n",
      "cor_base\n"
     ]
    },
    {
     "data": {
      "text/plain": [
       "((2, 8), (4, 4))"
      ]
     },
     "execution_count": 34,
     "metadata": {},
     "output_type": "execute_result"
    }
   ],
   "source": [
    "# dimlist = [(54,30)]\n",
    "# future for loop for at least 10 different seeds \n",
    "outer_final_df = None\n",
    "outer_metrics_df = None\n",
    "\n",
    "for s, seed in enumerate([22,23,24,25,26,27,28,29,30,31]):\n",
    "\n",
    "    # # break the loop early (for quick check-ups)\n",
    "    if s > 1:\n",
    "        break \n",
    "    \n",
    "    \n",
    "    # here we concatanate all the dataframes that are generated per seed (with all the different combinations)\n",
    "\n",
    "    seed = seed\n",
    "    torch.manual_seed(seed)\n",
    "    umap_model = umap.UMAP(n_neighbors=30,\n",
    "                           min_dist=0.15,\n",
    "                           n_components=3,\n",
    "                           metric=\"euclidean\",\n",
    "                           random_state=seed)\n",
    "\n",
    "\n",
    "    # here we store the metrics of the models for one seed \n",
    "    final_df = None\n",
    "    final_feature_df = None\n",
    "    model_list = []\n",
    "\n",
    "    # iterate over the combinations of the VAE layers \n",
    "    for i, tup in enumerate(comb_list):\n",
    "        hidden_dim, latent_dim, n = tup[0], tup[1], i\n",
    "        print(\"\\n\")\n",
    "        print(f\"Testing model: {i}, with dims {hidden_dim} and {latent_dim}, in seed {seed}\")\n",
    "        print(\"---\"*30)\n",
    "\n",
    "        # Instantiate the model\n",
    "        model1 = v1.VAE(\n",
    "            n_features=130,\n",
    "            latent_dim=latent_dim,\n",
    "            hidden_layer=True,\n",
    "            hidden_dim=hidden_dim,\n",
    "            output_activ=None, #nn.Sigmoid() or nn.Tanh() are other options \n",
    "        ).to(device)\n",
    "\n",
    "        # need to set the model name with the layers - usefull for creating its unique folder \n",
    "        model_name = f\"scbc2sim04_nocale_{n}_{hidden_dim}_{latent_dim}\"\n",
    "        model_list.append(model_name)\n",
    "        # the optimizer is in the train-val loop \n",
    "\n",
    "\n",
    "        ## Create a \"models\" folder and the specifics model's directory to save figures  \n",
    "\n",
    "        # create the models directory path \n",
    "        path_dir = os.getcwd() + \"\\\\models\"\n",
    "\n",
    "        # Check if the models directory exists, if not, create it\n",
    "        if not os.path.exists(path_dir):\n",
    "            os.makedirs(path_dir)\n",
    "            print(f\"Created directory: {path_dir}\")\n",
    "        else:\n",
    "            print(f\"Directory already exists: {path_dir}\")\n",
    "\n",
    "        # create a subdirectory for each model based on #number and name (the dims of layers)\n",
    "        model_path = os.path.join(path_dir,model_name)\n",
    "        if not os.path.exists(model_path):\n",
    "            os.makedirs(model_path)\n",
    "        model_path\n",
    "\n",
    "\n",
    "        ## Final Important part\n",
    "\n",
    "        # set all the parameters to variables because all functions depend on them\n",
    "        model = model1\n",
    "        loss_fun = cf.loss_fun_gauss\n",
    "        model_name=model_name\n",
    "        path=model_path\n",
    "        epoch = 200\n",
    "        learn_r = 0.005\n",
    "        freebits = 2\n",
    "        batch_size = 128\n",
    "        norm = 0\n",
    "\n",
    "        # the path where this model is going to be saved \n",
    "        print(f\"model path {path}\")\n",
    "\n",
    "        # run the training for the model\n",
    "        # Run the loop - see the parameters \n",
    "\n",
    "        batch_dict, epoch_dict,hyperparam_str = uf.train_val_loop_v3(\n",
    "        model = model,\n",
    "        train_loader=train_loader,\n",
    "        val_loader=val_loader, \n",
    "        loss_fun = loss_fun,\n",
    "        model_name=model_name,\n",
    "        model_path=path,\n",
    "        epoch = epoch,\n",
    "        patience = 7,\n",
    "        learn_r = learn_r,\n",
    "        freebits = freebits,\n",
    "        batch_size = batch_size,\n",
    "        norm = norm\n",
    "        )\n",
    "\n",
    "        # write the full model id\n",
    "        model_id = model_name + \"_\" + hyperparam_str\n",
    "        print(f\"Model: {model_id} has been trained\")\n",
    "\n",
    "\n",
    "        # next run the test set analysis for the eaxh model and get the results test_iter_dict and test_metrics \n",
    "        test_iter_dict, test_metrics = uf.test_set_analysis(\n",
    "        model=model,\n",
    "        test_loader=test_loader,\n",
    "        loss_fun = loss_fun,\n",
    "        freebits=freebits,\n",
    "        model_id=model_id\n",
    "    )\n",
    "        # create the the dataframe to store per model metrics \n",
    "        test_df = pd.DataFrame([test_metrics])\n",
    "        test_df[\"hidden_dim\"] = hidden_dim\n",
    "        test_df[\"latent_dim\"] = latent_dim\n",
    "        test_df[\"seed\"] = seed\n",
    "        \n",
    "        # extract latent variables from the whole dataset using the trained model\n",
    "        # latent list\n",
    "        latent_list = list()\n",
    "        with torch.inference_mode():\n",
    "            model.eval()\n",
    "            for batch, _, _ in whole_loader:\n",
    "                batch = batch.to(device)\n",
    "                latent, _ = model.get_latent_variables(batch, detach=True)\n",
    "                latent_list.append(latent.cpu().detach().numpy())\n",
    "            \n",
    "        latent_arr = np.vstack(latent_list)\n",
    "        latent_df = pd.DataFrame(latent_arr, index=data.index, columns=[f\"z{str(i)}\" for i in range(latent_dim)])\n",
    "\n",
    "        # after gettng the latent variables perform umap on them \n",
    "        umap_latent = umap_model.fit_transform(latent_df)\n",
    "        umap_df = pd.DataFrame(umap_latent, index=data.index, columns=[f\"dim1\",f\"dim2\",f\"dim3\"])\n",
    "\n",
    "        # create the classifier and use the latent dimension and the umap embeddings to the predictor - use df_pairs as ground truth, \n",
    "\n",
    "        # thing to remove after the iteration is finished umap_latent, latent_df, umap_dist \n",
    "        if final_df is None:\n",
    "            final_df = test_df\n",
    "        else:\n",
    "            final_df = pd.concat([final_df,test_df],axis=0)\n",
    "        \n",
    "        gc.collect()\n",
    "\n",
    "        # get the feature from the specific model parameters\n",
    "    \n",
    "        # proteins that exist withing ground truth databases\n",
    "        proteins_in_pairs = set(pairs_df.iloc[:, 0]).union(set(pairs_df.iloc[:, 1]))\n",
    "\n",
    "        # subset by what is in the ground truth pairs\n",
    "        latent_df_sub = latent_df.loc[latent_df.index.intersection(proteins_in_pairs)]\n",
    "        umap_df_sub = umap_df.loc[umap_df.index.intersection(proteins_in_pairs)]\n",
    "\n",
    "\n",
    "        # perform corralation analysis for latent and euclidean distance calculation for umap embeddings\n",
    "\n",
    "\n",
    "\n",
    "        corr_matrix = pd.DataFrame(np.corrcoef(latent_df_sub),\n",
    "                                index=latent_df_sub.index,\n",
    "                                columns=latent_df_sub.index)\n",
    "\n",
    "        # fix the matrices of each feature type \n",
    "\n",
    "        cor_feat = (corr_matrix\n",
    "                    .reset_index()\n",
    "                    .melt(id_vars=\"index\", var_name=\"Var2\", value_name=f\"cor_feature_{model_name}\")\n",
    "                    .rename(columns={\"index\":\"Var1\"})\n",
    "        )\n",
    "\n",
    "        ##\n",
    "        umap_dist = pd.DataFrame(pairwise_distances(umap_df_sub, metric=\"euclidean\"),\n",
    "                                index = umap_df_sub.index,\n",
    "                                columns=umap_df_sub.index)\n",
    "\n",
    "        umap_dist = umap_dist.reset_index().melt(id_vars=\"index\", var_name=\"Var2\", value_name=f\"euc_feature_{model_name}\").rename(columns={\"index\":\"Var1\"})\n",
    "\n",
    "\n",
    "\n",
    "        ## filter duplicates and self-correlations/distances, keep only Var1>Var2\n",
    "        cor_feat = cor_feat[cor_feat[\"Var1\"]!=cor_feat[\"Var2\"]]\n",
    "        cor_feat = cor_feat[cor_feat[\"Var1\"]>cor_feat[\"Var2\"]]\n",
    "\n",
    "        umap_dist = umap_dist[umap_dist[\"Var1\"]!=umap_dist[\"Var2\"]]\n",
    "        umap_dist = umap_dist[umap_dist[\"Var1\"]>umap_dist[\"Var2\"]]\n",
    "\n",
    "\n",
    "        ## get a true protein pairs character vector\n",
    "        pair_chars = pairs_df[\"V1\"].astype(str) + \"_\" + pairs_df[\"V2\"].astype(str)\n",
    "\n",
    "        ## get ground truth classes of each feature category\n",
    "        cor_feat[\"db\"] = np.where((cor_feat[\"Var1\"].astype(str) + \"_\" + cor_feat[\"Var2\"].astype(str)).isin(pair_chars), 1, 0)\n",
    "        umap_dist[\"db\"] = np.where((umap_dist[\"Var1\"].astype(str) + \"_\" + umap_dist[\"Var2\"].astype(str)).isin(pair_chars), 1, 0)\n",
    "\n",
    "        # merge both dataframes using reduce and lambda function\n",
    "        feature_df = reduce(lambda left, right: pd.merge(left, right, on=[\"Var1\", \"Var2\", \"db\"], how=\"inner\"), [cor_feat, umap_dist])\n",
    "\n",
    "        if final_feature_df is None:\n",
    "            final_feature_df = feature_df\n",
    "        else:\n",
    "            final_feature_df = reduce(lambda left, right: pd.merge(left, right, on=[\"Var1\", \"Var2\", \"db\"], how=\"inner\"), [final_feature_df, feature_df])\n",
    "        \n",
    "        del cor_feat, umap_dist, pair_chars, corr_matrix, latent_df_sub, umap_df_sub, umap_latent, feature_df\n",
    "        \n",
    "        gc.collect()\n",
    "\n",
    "\n",
    "    # out of the first loop \n",
    "\n",
    "\n",
    "    # create cor features from the base \n",
    "    proteins_in_pairs = set(pairs_df.iloc[:, 0]).union(set(pairs_df.iloc[:, 1]))\n",
    "\n",
    "    data_sub = data.loc[data.index.intersection(proteins_in_pairs)]\n",
    "    corr_matrix_base = data_sub.T.corr(method=\"pearson\")\n",
    "\n",
    "    cor_feat_base = (corr_matrix_base\n",
    "                .reset_index()\n",
    "                .melt(id_vars=\"index\", var_name=\"Var2\", value_name=f\"cor_base\")\n",
    "                .rename(columns={\"index\":\"Var1\"})\n",
    "    )\n",
    "    cor_feat_base = cor_feat_base[cor_feat_base[\"Var1\"]!=cor_feat_base[\"Var2\"]]\n",
    "    cor_feat_base = cor_feat_base[cor_feat_base[\"Var1\"]>cor_feat_base[\"Var2\"]]\n",
    "\n",
    "    pair_chars = pairs_df[\"V1\"].astype(str) + \"_\" + pairs_df[\"V2\"].astype(str)\n",
    "    cor_feat_base[\"db\"] = np.where((cor_feat_base[\"Var1\"].astype(str) + \"_\" + cor_feat_base[\"Var2\"].astype(str)).isin(pair_chars), 1, 0) \n",
    "\n",
    "    # add the base cor-predictor to the feature list as well as to the model list\n",
    "    model_list.append(\"cor_base\")\n",
    "    final_feature_df= final_feature_df.merge(cor_feat_base, on=[\"Var1\",\"Var2\",\"db\"], how=\"inner\")\n",
    "\n",
    "\n",
    "\n",
    "\n",
    "    ###### from this part and so on feature extraction for all combinations ######\n",
    "    metrics_df = None\n",
    "    # all combinations should be based on the same sampling procedure for more accurate comparisons \n",
    "\n",
    "    # begin with the L2 regression \n",
    "    pos_df = final_feature_df[final_feature_df['db'] == 1]\n",
    "    neg_df = final_feature_df[final_feature_df['db'] == 0]\n",
    "\n",
    "    # sample the negatives with randomization and create final dataset df\n",
    "    neg_df = neg_df.sample(n=pos_df.shape[0], random_state=seed)\n",
    "    sample_df = pd.concat([pos_df,neg_df]).sample(frac=1, random_state=seed)\n",
    "    del pos_df, neg_df\n",
    "\n",
    "    X = sample_df.drop([\"Var1\", \"Var2\", \"db\"], axis=1) \n",
    "    # umapX = sample_df[[\"euc_feature\"]]\n",
    "    y = sample_df[\"db\"]\n",
    "\n",
    "    X_train, X_test, y_train, y_test = train_test_split(X, y, test_size=0.2, random_state=seed)\n",
    "\n",
    "    classifier_pipe = Pipeline([\n",
    "        (\"scaler\", StandardScaler()),\n",
    "        (\"logreg\", LogisticRegression(penalty=\"l2\", solver=\"liblinear\", random_state=seed))\n",
    "    ])\n",
    "\n",
    "    param_grid = {\n",
    "        'logreg__C': [0.01]\n",
    "    }\n",
    "\n",
    "    for model_n in model_list:\n",
    "        print(model_n)\n",
    "        if model_n != \"cor_base\":\n",
    "\n",
    "            # base_cor_grid = GridSearchCV(classifier_pipe, param_grid, cv=10, scoring='roc_auc', n_jobs=1)\n",
    "            cor_grid = GridSearchCV(classifier_pipe, param_grid, cv=10, scoring='roc_auc', n_jobs=1)\n",
    "            euc_grid = GridSearchCV(classifier_pipe, param_grid, cv=10, scoring='roc_auc', n_jobs=1)\n",
    "\n",
    "\n",
    "            # base_cor_grid.fit(X_train[[\"cor_base\"]], y_train)\n",
    "            cor_grid.fit(X_train[[f\"cor_feature_{model_n}\"]], y_train)\n",
    "            euc_grid.fit(X_train[[f\"euc_feature_{model_n}\"]], y_train)\n",
    "\n",
    "            # basecor_cv_auc = base_cor_grid.best_score_\n",
    "            cor_cv_auc = cor_grid.best_score_\n",
    "            euc_cv_auc = euc_grid.best_score_\n",
    "\n",
    "            # y_pred_basecor = base_cor_grid.predict_proba(X_test[[\"cor_base\"]])[:, 1]\n",
    "            y_pred_cor = cor_grid.predict_proba(X_test[[f\"cor_feature_{model_n}\"]])[:, 1]\n",
    "            y_pred_euc = euc_grid.predict_proba(X_test[[f\"euc_feature_{model_n}\"]])[:, 1]\n",
    "\n",
    "            # basecor_test_auc = roc_auc_score(y_test, y_pred_basecor)\n",
    "            cor_test_auc = roc_auc_score(y_test, y_pred_cor)\n",
    "            euc_test_auc = roc_auc_score(y_test, y_pred_euc)\n",
    "\n",
    "            # final_df[\"test_basecor\"] = round(float(basecor_test_auc),3)\n",
    "            res_df = pd.DataFrame({\n",
    "                    \"model\" : [model_n],\n",
    "                    \"test_cor\" : [round(float(cor_test_auc),3)],\n",
    "                    \"test_umap\" : [round(float(euc_test_auc),3)],\n",
    "                    \"seed\" : seed\n",
    "                })\n",
    "\n",
    "            if metrics_df is None:\n",
    "                metrics_df = res_df\n",
    "            else:\n",
    "                metrics_df = pd.concat([metrics_df,res_df],axis=0)\n",
    "            \n",
    "            gc.collect()\n",
    "        else:\n",
    "            cor_grid = GridSearchCV(classifier_pipe, param_grid, cv=10, scoring='roc_auc', n_jobs=1)\n",
    "            cor_grid.fit(X_train[[model_n]], y_train)\n",
    "            y_pred_cor = cor_grid.predict_proba(X_test[[model_n]])[:, 1]\n",
    "            cor_test_auc = roc_auc_score(y_test, y_pred_cor)\n",
    "            res_df = pd.DataFrame({\n",
    "                    \"model\" : [model_n],\n",
    "                    \"test_cor\" : [round(float(cor_test_auc),3)],\n",
    "                    \"test_umap\" : 0,\n",
    "                    \"seed\" : seed\n",
    "                })\n",
    "            \n",
    "            if metrics_df is None:\n",
    "                metrics_df = res_df\n",
    "            else:\n",
    "                metrics_df = pd.concat([metrics_df,res_df],axis=0)\n",
    "\n",
    "    del X_train, X_test, y_train, y_test, param_grid, classifier_pipe, res_df\n",
    "    gc.collect()\n",
    "\n",
    "\n",
    "    if outer_final_df is None:\n",
    "        outer_final_df = final_df\n",
    "    else:\n",
    "        outer_final_df = pd.concat([outer_final_df, final_df], axis=0)\n",
    "\n",
    "    if outer_metrics_df is None:\n",
    "        outer_metrics_df = metrics_df\n",
    "    else:\n",
    "        outer_metrics_df = pd.concat([outer_metrics_df, metrics_df], axis=0)\n",
    "    # last step - make predictions for this batch of features\n",
    "\n",
    "\n",
    "outer_final_df.shape, outer_metrics_df.shape "
   ]
  },
  {
   "cell_type": "code",
   "execution_count": 35,
   "metadata": {},
   "outputs": [
    {
     "data": {
      "text/html": [
       "<div>\n",
       "<style scoped>\n",
       "    .dataframe tbody tr th:only-of-type {\n",
       "        vertical-align: middle;\n",
       "    }\n",
       "\n",
       "    .dataframe tbody tr th {\n",
       "        vertical-align: top;\n",
       "    }\n",
       "\n",
       "    .dataframe thead th {\n",
       "        text-align: right;\n",
       "    }\n",
       "</style>\n",
       "<table border=\"1\" class=\"dataframe\">\n",
       "  <thead>\n",
       "    <tr style=\"text-align: right;\">\n",
       "      <th></th>\n",
       "      <th>test_cor</th>\n",
       "      <th>test_umap</th>\n",
       "      <th>seed</th>\n",
       "    </tr>\n",
       "    <tr>\n",
       "      <th>model</th>\n",
       "      <th></th>\n",
       "      <th></th>\n",
       "      <th></th>\n",
       "    </tr>\n",
       "  </thead>\n",
       "  <tbody>\n",
       "    <tr>\n",
       "      <th>cor_base</th>\n",
       "      <td>0.726</td>\n",
       "      <td>0.000</td>\n",
       "      <td>22.5</td>\n",
       "    </tr>\n",
       "    <tr>\n",
       "      <th>scbc2sim04_nocale_0_90_45</th>\n",
       "      <td>0.766</td>\n",
       "      <td>0.772</td>\n",
       "      <td>22.5</td>\n",
       "    </tr>\n",
       "  </tbody>\n",
       "</table>\n",
       "</div>"
      ],
      "text/plain": [
       "                           test_cor  test_umap  seed\n",
       "model                                               \n",
       "cor_base                      0.726      0.000  22.5\n",
       "scbc2sim04_nocale_0_90_45     0.766      0.772  22.5"
      ]
     },
     "execution_count": 35,
     "metadata": {},
     "output_type": "execute_result"
    }
   ],
   "source": [
    "# outer_metrics_df.to_csv(os.getcwd()+\"\\\\data\\\\processed\\\\scbc2sim04_noscale_metrics.csv\")\n",
    "# outer_final_df.to_csv(os.getcwd()+\"\\\\data\\\\processed\\\\scbc2sim04_noscale_finaldf.csv\")\n",
    "outer_metrics_df.groupby([\"model\"]).mean()"
   ]
  },
  {
   "cell_type": "markdown",
   "metadata": {},
   "source": [
    "## Load the Results from Runs"
   ]
  },
  {
   "cell_type": "code",
   "execution_count": 421,
   "metadata": {},
   "outputs": [],
   "source": [
    "load_path = os.getcwd() + \"\\\\data\\\\features\\\\\""
   ]
  },
  {
   "cell_type": "code",
   "execution_count": null,
   "metadata": {},
   "outputs": [],
   "source": [
    "# abms4_zscore = pd.read_csv(load_path+\"abms_iter_zscore_metrics.csv\")\n",
    "# abms4_minmax = pd.read_csv(load_path+\"abms_iter_minmax_metrics.csv\")\n",
    "\n",
    "# scbc2_minmax = pd.read_csv(load_path+\"scbc_bits2_minmax_metrics.csv\")\n",
    "# scbc4_minmax = pd.read_csv(load_path+\"scbc_iter_minmax_metrics.csv\")\n",
    "# \n",
    "# scbc2_zscore = pd.read_csv(os.getcwd()+\"\\\\data\\\\processed\\\\scbc_bits2_zscore_metrics.csv\")"
   ]
  },
  {
   "cell_type": "code",
   "execution_count": null,
   "metadata": {},
   "outputs": [
    {
     "data": {
      "text/html": [
       "<div>\n",
       "<style scoped>\n",
       "    .dataframe tbody tr th:only-of-type {\n",
       "        vertical-align: middle;\n",
       "    }\n",
       "\n",
       "    .dataframe tbody tr th {\n",
       "        vertical-align: top;\n",
       "    }\n",
       "\n",
       "    .dataframe thead th {\n",
       "        text-align: right;\n",
       "    }\n",
       "</style>\n",
       "<table border=\"1\" class=\"dataframe\">\n",
       "  <thead>\n",
       "    <tr style=\"text-align: right;\">\n",
       "      <th></th>\n",
       "      <th>model</th>\n",
       "      <th>Unnamed: 0</th>\n",
       "      <th>test_cor</th>\n",
       "      <th>test_umap</th>\n",
       "      <th>seed</th>\n",
       "    </tr>\n",
       "  </thead>\n",
       "  <tbody>\n",
       "    <tr>\n",
       "      <th>1</th>\n",
       "      <td>scbc_zscore_0_90_45</td>\n",
       "      <td>0.0</td>\n",
       "      <td>0.7717</td>\n",
       "      <td>0.7877</td>\n",
       "      <td>26.5</td>\n",
       "    </tr>\n",
       "    <tr>\n",
       "      <th>0</th>\n",
       "      <td>cor_base</td>\n",
       "      <td>0.0</td>\n",
       "      <td>0.7416</td>\n",
       "      <td>0.0000</td>\n",
       "      <td>26.5</td>\n",
       "    </tr>\n",
       "  </tbody>\n",
       "</table>\n",
       "</div>"
      ],
      "text/plain": [
       "                 model  Unnamed: 0  test_cor  test_umap  seed\n",
       "1  scbc_zscore_0_90_45         0.0    0.7717     0.7877  26.5\n",
       "0             cor_base         0.0    0.7416     0.0000  26.5"
      ]
     },
     "execution_count": 41,
     "metadata": {},
     "output_type": "execute_result"
    }
   ],
   "source": [
    "# scbc2_zscore.groupby([\"model\"], as_index=False).mean().sort_values(by=\"test_cor\", ascending=False)"
   ]
  }
 ],
 "metadata": {
  "kernelspec": {
   "display_name": "scbc",
   "language": "python",
   "name": "python3"
  },
  "language_info": {
   "codemirror_mode": {
    "name": "ipython",
    "version": 3
   },
   "file_extension": ".py",
   "mimetype": "text/x-python",
   "name": "python",
   "nbconvert_exporter": "python",
   "pygments_lexer": "ipython3",
   "version": "3.12.0"
  }
 },
 "nbformat": 4,
 "nbformat_minor": 2
}
